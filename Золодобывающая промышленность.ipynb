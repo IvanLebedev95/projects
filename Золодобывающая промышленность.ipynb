{
 "cells": [
  {
   "cell_type": "markdown",
   "metadata": {},
   "source": [
    "# Предсказание коэффициента восстановления золота в золодобывающей промышленности "
   ]
  },
  {
   "cell_type": "markdown",
   "metadata": {},
   "source": [
    "**Цель работы**\n",
    "\n",
    "Необходимо подготовить прототип модели машинного обучения для компании «Цифра». Компания разрабатывает решения для эффективной работы промышленных предприятий.\n",
    "Модель должна предсказать коэффициент восстановления золота из золотосодержащей руды. В нашем распоряжении данные с параметрами добычи и очистки.\n",
    "Модель поможет оптимизировать производство, чтобы не запускать предприятие с убыточными характеристиками.\n",
    "\n",
    "**Описание данных**\n",
    "\n",
    "Данные находятся в трёх файлах: обучающая выборка, тестовая выборка и полные исходные данные.\n",
    "Данные индексируются датой и временем получения информации (признак date). Соседние по времени параметры часто похожи.\n",
    "Некоторые параметры недоступны, потому что замеряются и/или рассчитываются значительно позже. Из-за этого в тестовой выборке отсутствуют некоторые признаки, которые могут быть в обучающей. Также в тестовом наборе нет целевых признаков.\n",
    "Исходный датасет содержит обучающую и тестовую выборки со всеми признаками.\n",
    "В нашем распоряжении сырые данные: их просто выгрузили из хранилища.\n",
    "\n",
    "\n",
    "\n",
    "**План**\n",
    "\n",
    "1.[Подготовка данных](#1)\n",
    "\n",
    "2.[Анализ данных](#2)\n",
    "\n",
    "3.[Построение и применение модели](#3)\n",
    "\n",
    "4.[Проверка на вменяемость модели](#5)\n",
    "\n",
    "5.[Итоговые выводы](#4)"
   ]
  },
  {
   "cell_type": "markdown",
   "metadata": {},
   "source": [
    "<a id='1'></a>\n",
    "## Подготовка данных"
   ]
  },
  {
   "cell_type": "code",
   "execution_count": 1,
   "metadata": {},
   "outputs": [],
   "source": [
    "import pandas as pd\n",
    "import numpy as np\n",
    "import matplotlib.pyplot as plt\n",
    "from scipy import stats as st\n",
    "from sklearn.metrics import mean_absolute_error\n",
    "from sklearn.preprocessing import StandardScaler\n",
    "from sklearn.model_selection import cross_val_score\n",
    "from sklearn.model_selection import cross_val_predict\n",
    "from catboost import CatBoostRegressor\n",
    "from sklearn.linear_model import LinearRegression"
   ]
  },
  {
   "cell_type": "markdown",
   "metadata": {},
   "source": [
    "### Загрузка данных"
   ]
  },
  {
   "cell_type": "code",
   "execution_count": 2,
   "metadata": {},
   "outputs": [],
   "source": [
    "df_train = pd.read_csv('https://code.s3.yandex.net/datasets/gold_recovery_train.csv')\n",
    "df_test = pd.read_csv('https://code.s3.yandex.net/datasets/gold_recovery_test.csv')\n",
    "df_full = pd.read_csv('https://code.s3.yandex.net/datasets/gold_recovery_full.csv') "
   ]
  },
  {
   "cell_type": "code",
   "execution_count": 3,
   "metadata": {},
   "outputs": [
    {
     "name": "stdout",
     "output_type": "stream",
     "text": [
      "<class 'pandas.core.frame.DataFrame'>\n",
      "RangeIndex: 16860 entries, 0 to 16859\n",
      "Data columns (total 87 columns):\n",
      "date                                                  16860 non-null object\n",
      "final.output.concentrate_ag                           16788 non-null float64\n",
      "final.output.concentrate_pb                           16788 non-null float64\n",
      "final.output.concentrate_sol                          16490 non-null float64\n",
      "final.output.concentrate_au                           16789 non-null float64\n",
      "final.output.recovery                                 15339 non-null float64\n",
      "final.output.tail_ag                                  16794 non-null float64\n",
      "final.output.tail_pb                                  16677 non-null float64\n",
      "final.output.tail_sol                                 16715 non-null float64\n",
      "final.output.tail_au                                  16794 non-null float64\n",
      "primary_cleaner.input.sulfate                         15553 non-null float64\n",
      "primary_cleaner.input.depressant                      15598 non-null float64\n",
      "primary_cleaner.input.feed_size                       16860 non-null float64\n",
      "primary_cleaner.input.xanthate                        15875 non-null float64\n",
      "primary_cleaner.output.concentrate_ag                 16778 non-null float64\n",
      "primary_cleaner.output.concentrate_pb                 16502 non-null float64\n",
      "primary_cleaner.output.concentrate_sol                16224 non-null float64\n",
      "primary_cleaner.output.concentrate_au                 16778 non-null float64\n",
      "primary_cleaner.output.tail_ag                        16777 non-null float64\n",
      "primary_cleaner.output.tail_pb                        16761 non-null float64\n",
      "primary_cleaner.output.tail_sol                       16579 non-null float64\n",
      "primary_cleaner.output.tail_au                        16777 non-null float64\n",
      "primary_cleaner.state.floatbank8_a_air                16820 non-null float64\n",
      "primary_cleaner.state.floatbank8_a_level              16827 non-null float64\n",
      "primary_cleaner.state.floatbank8_b_air                16820 non-null float64\n",
      "primary_cleaner.state.floatbank8_b_level              16833 non-null float64\n",
      "primary_cleaner.state.floatbank8_c_air                16822 non-null float64\n",
      "primary_cleaner.state.floatbank8_c_level              16833 non-null float64\n",
      "primary_cleaner.state.floatbank8_d_air                16821 non-null float64\n",
      "primary_cleaner.state.floatbank8_d_level              16833 non-null float64\n",
      "rougher.calculation.sulfate_to_au_concentrate         16833 non-null float64\n",
      "rougher.calculation.floatbank10_sulfate_to_au_feed    16833 non-null float64\n",
      "rougher.calculation.floatbank11_sulfate_to_au_feed    16833 non-null float64\n",
      "rougher.calculation.au_pb_ratio                       15618 non-null float64\n",
      "rougher.input.feed_ag                                 16778 non-null float64\n",
      "rougher.input.feed_pb                                 16632 non-null float64\n",
      "rougher.input.feed_rate                               16347 non-null float64\n",
      "rougher.input.feed_size                               16443 non-null float64\n",
      "rougher.input.feed_sol                                16568 non-null float64\n",
      "rougher.input.feed_au                                 16777 non-null float64\n",
      "rougher.input.floatbank10_sulfate                     15816 non-null float64\n",
      "rougher.input.floatbank10_xanthate                    16514 non-null float64\n",
      "rougher.input.floatbank11_sulfate                     16237 non-null float64\n",
      "rougher.input.floatbank11_xanthate                    14956 non-null float64\n",
      "rougher.output.concentrate_ag                         16778 non-null float64\n",
      "rougher.output.concentrate_pb                         16778 non-null float64\n",
      "rougher.output.concentrate_sol                        16698 non-null float64\n",
      "rougher.output.concentrate_au                         16778 non-null float64\n",
      "rougher.output.recovery                               14287 non-null float64\n",
      "rougher.output.tail_ag                                14610 non-null float64\n",
      "rougher.output.tail_pb                                16778 non-null float64\n",
      "rougher.output.tail_sol                               14611 non-null float64\n",
      "rougher.output.tail_au                                14611 non-null float64\n",
      "rougher.state.floatbank10_a_air                       16807 non-null float64\n",
      "rougher.state.floatbank10_a_level                     16807 non-null float64\n",
      "rougher.state.floatbank10_b_air                       16807 non-null float64\n",
      "rougher.state.floatbank10_b_level                     16807 non-null float64\n",
      "rougher.state.floatbank10_c_air                       16807 non-null float64\n",
      "rougher.state.floatbank10_c_level                     16814 non-null float64\n",
      "rougher.state.floatbank10_d_air                       16802 non-null float64\n",
      "rougher.state.floatbank10_d_level                     16809 non-null float64\n",
      "rougher.state.floatbank10_e_air                       16257 non-null float64\n",
      "rougher.state.floatbank10_e_level                     16809 non-null float64\n",
      "rougher.state.floatbank10_f_air                       16802 non-null float64\n",
      "rougher.state.floatbank10_f_level                     16802 non-null float64\n",
      "secondary_cleaner.output.tail_ag                      16776 non-null float64\n",
      "secondary_cleaner.output.tail_pb                      16764 non-null float64\n",
      "secondary_cleaner.output.tail_sol                     14874 non-null float64\n",
      "secondary_cleaner.output.tail_au                      16778 non-null float64\n",
      "secondary_cleaner.state.floatbank2_a_air              16497 non-null float64\n",
      "secondary_cleaner.state.floatbank2_a_level            16751 non-null float64\n",
      "secondary_cleaner.state.floatbank2_b_air              16705 non-null float64\n",
      "secondary_cleaner.state.floatbank2_b_level            16748 non-null float64\n",
      "secondary_cleaner.state.floatbank3_a_air              16763 non-null float64\n",
      "secondary_cleaner.state.floatbank3_a_level            16747 non-null float64\n",
      "secondary_cleaner.state.floatbank3_b_air              16752 non-null float64\n",
      "secondary_cleaner.state.floatbank3_b_level            16750 non-null float64\n",
      "secondary_cleaner.state.floatbank4_a_air              16731 non-null float64\n",
      "secondary_cleaner.state.floatbank4_a_level            16747 non-null float64\n",
      "secondary_cleaner.state.floatbank4_b_air              16768 non-null float64\n",
      "secondary_cleaner.state.floatbank4_b_level            16767 non-null float64\n",
      "secondary_cleaner.state.floatbank5_a_air              16775 non-null float64\n",
      "secondary_cleaner.state.floatbank5_a_level            16775 non-null float64\n",
      "secondary_cleaner.state.floatbank5_b_air              16775 non-null float64\n",
      "secondary_cleaner.state.floatbank5_b_level            16776 non-null float64\n",
      "secondary_cleaner.state.floatbank6_a_air              16757 non-null float64\n",
      "secondary_cleaner.state.floatbank6_a_level            16775 non-null float64\n",
      "dtypes: float64(86), object(1)\n",
      "memory usage: 11.2+ MB\n",
      "<class 'pandas.core.frame.DataFrame'>\n",
      "RangeIndex: 5856 entries, 0 to 5855\n",
      "Data columns (total 53 columns):\n",
      "date                                          5856 non-null object\n",
      "primary_cleaner.input.sulfate                 5554 non-null float64\n",
      "primary_cleaner.input.depressant              5572 non-null float64\n",
      "primary_cleaner.input.feed_size               5856 non-null float64\n",
      "primary_cleaner.input.xanthate                5690 non-null float64\n",
      "primary_cleaner.state.floatbank8_a_air        5840 non-null float64\n",
      "primary_cleaner.state.floatbank8_a_level      5840 non-null float64\n",
      "primary_cleaner.state.floatbank8_b_air        5840 non-null float64\n",
      "primary_cleaner.state.floatbank8_b_level      5840 non-null float64\n",
      "primary_cleaner.state.floatbank8_c_air        5840 non-null float64\n",
      "primary_cleaner.state.floatbank8_c_level      5840 non-null float64\n",
      "primary_cleaner.state.floatbank8_d_air        5840 non-null float64\n",
      "primary_cleaner.state.floatbank8_d_level      5840 non-null float64\n",
      "rougher.input.feed_ag                         5840 non-null float64\n",
      "rougher.input.feed_pb                         5840 non-null float64\n",
      "rougher.input.feed_rate                       5816 non-null float64\n",
      "rougher.input.feed_size                       5834 non-null float64\n",
      "rougher.input.feed_sol                        5789 non-null float64\n",
      "rougher.input.feed_au                         5840 non-null float64\n",
      "rougher.input.floatbank10_sulfate             5599 non-null float64\n",
      "rougher.input.floatbank10_xanthate            5733 non-null float64\n",
      "rougher.input.floatbank11_sulfate             5801 non-null float64\n",
      "rougher.input.floatbank11_xanthate            5503 non-null float64\n",
      "rougher.state.floatbank10_a_air               5839 non-null float64\n",
      "rougher.state.floatbank10_a_level             5840 non-null float64\n",
      "rougher.state.floatbank10_b_air               5839 non-null float64\n",
      "rougher.state.floatbank10_b_level             5840 non-null float64\n",
      "rougher.state.floatbank10_c_air               5839 non-null float64\n",
      "rougher.state.floatbank10_c_level             5840 non-null float64\n",
      "rougher.state.floatbank10_d_air               5839 non-null float64\n",
      "rougher.state.floatbank10_d_level             5840 non-null float64\n",
      "rougher.state.floatbank10_e_air               5839 non-null float64\n",
      "rougher.state.floatbank10_e_level             5840 non-null float64\n",
      "rougher.state.floatbank10_f_air               5839 non-null float64\n",
      "rougher.state.floatbank10_f_level             5840 non-null float64\n",
      "secondary_cleaner.state.floatbank2_a_air      5836 non-null float64\n",
      "secondary_cleaner.state.floatbank2_a_level    5840 non-null float64\n",
      "secondary_cleaner.state.floatbank2_b_air      5833 non-null float64\n",
      "secondary_cleaner.state.floatbank2_b_level    5840 non-null float64\n",
      "secondary_cleaner.state.floatbank3_a_air      5822 non-null float64\n",
      "secondary_cleaner.state.floatbank3_a_level    5840 non-null float64\n",
      "secondary_cleaner.state.floatbank3_b_air      5840 non-null float64\n",
      "secondary_cleaner.state.floatbank3_b_level    5840 non-null float64\n",
      "secondary_cleaner.state.floatbank4_a_air      5840 non-null float64\n",
      "secondary_cleaner.state.floatbank4_a_level    5840 non-null float64\n",
      "secondary_cleaner.state.floatbank4_b_air      5840 non-null float64\n",
      "secondary_cleaner.state.floatbank4_b_level    5840 non-null float64\n",
      "secondary_cleaner.state.floatbank5_a_air      5840 non-null float64\n",
      "secondary_cleaner.state.floatbank5_a_level    5840 non-null float64\n",
      "secondary_cleaner.state.floatbank5_b_air      5840 non-null float64\n",
      "secondary_cleaner.state.floatbank5_b_level    5840 non-null float64\n",
      "secondary_cleaner.state.floatbank6_a_air      5840 non-null float64\n",
      "secondary_cleaner.state.floatbank6_a_level    5840 non-null float64\n",
      "dtypes: float64(52), object(1)\n",
      "memory usage: 2.4+ MB\n"
     ]
    }
   ],
   "source": [
    "df_train.info()\n",
    "df_test.info()"
   ]
  },
  {
   "cell_type": "markdown",
   "metadata": {},
   "source": [
    "### Проверка расчета эффективности обогащения для признака `rougher.output.recovery`"
   ]
  },
  {
   "cell_type": "markdown",
   "metadata": {},
   "source": [
    "Для тестовой выборки проверим расчет признака `rougher.output.recovery` - эффективность обогащения после флотации. Эффективность обогащения рассчитывается по формуле:"
   ]
  },
  {
   "attachments": {
    "rec.jpg": {
     "image/jpeg": "[encoded data removed]"
    }
   },
   "cell_type": "markdown",
   "metadata": {},
   "source": [
    "![rec.jpg](attachment:rec.jpg)"
   ]
  },
  {
   "cell_type": "markdown",
   "metadata": {},
   "source": [
    "где:\n",
    " - C — доля золота в концентрате после флотации/очистки;\n",
    " - F — доля золота в сырье/концентрате до флотации/очистки;\n",
    " - T — доля золота в отвальных хвостах после флотации/очистки."
   ]
  },
  {
   "cell_type": "code",
   "execution_count": 4,
   "metadata": {},
   "outputs": [
    {
     "data": {
      "text/html": [
       "<div>\n",
       "<style scoped>\n",
       "    .dataframe tbody tr th:only-of-type {\n",
       "        vertical-align: middle;\n",
       "    }\n",
       "\n",
       "    .dataframe tbody tr th {\n",
       "        vertical-align: top;\n",
       "    }\n",
       "\n",
       "    .dataframe thead th {\n",
       "        text-align: right;\n",
       "    }\n",
       "</style>\n",
       "<table border=\"1\" class=\"dataframe\">\n",
       "  <thead>\n",
       "    <tr style=\"text-align: right;\">\n",
       "      <th></th>\n",
       "      <th>rougher.output.recovery</th>\n",
       "      <th>calk_recov</th>\n",
       "    </tr>\n",
       "  </thead>\n",
       "  <tbody>\n",
       "    <tr>\n",
       "      <td>0</td>\n",
       "      <td>87.107763</td>\n",
       "      <td>87.107763</td>\n",
       "    </tr>\n",
       "    <tr>\n",
       "      <td>1</td>\n",
       "      <td>86.843261</td>\n",
       "      <td>86.843261</td>\n",
       "    </tr>\n",
       "    <tr>\n",
       "      <td>2</td>\n",
       "      <td>86.842308</td>\n",
       "      <td>86.842308</td>\n",
       "    </tr>\n",
       "    <tr>\n",
       "      <td>3</td>\n",
       "      <td>87.226430</td>\n",
       "      <td>87.226430</td>\n",
       "    </tr>\n",
       "    <tr>\n",
       "      <td>4</td>\n",
       "      <td>86.688794</td>\n",
       "      <td>86.688794</td>\n",
       "    </tr>\n",
       "    <tr>\n",
       "      <td>...</td>\n",
       "      <td>...</td>\n",
       "      <td>...</td>\n",
       "    </tr>\n",
       "    <tr>\n",
       "      <td>16855</td>\n",
       "      <td>89.574376</td>\n",
       "      <td>89.574376</td>\n",
       "    </tr>\n",
       "    <tr>\n",
       "      <td>16856</td>\n",
       "      <td>87.724007</td>\n",
       "      <td>87.724007</td>\n",
       "    </tr>\n",
       "    <tr>\n",
       "      <td>16857</td>\n",
       "      <td>88.890579</td>\n",
       "      <td>88.890579</td>\n",
       "    </tr>\n",
       "    <tr>\n",
       "      <td>16858</td>\n",
       "      <td>89.858126</td>\n",
       "      <td>89.858126</td>\n",
       "    </tr>\n",
       "    <tr>\n",
       "      <td>16859</td>\n",
       "      <td>89.514960</td>\n",
       "      <td>89.514960</td>\n",
       "    </tr>\n",
       "  </tbody>\n",
       "</table>\n",
       "<p>16860 rows × 2 columns</p>\n",
       "</div>"
      ],
      "text/plain": [
       "       rougher.output.recovery  calk_recov\n",
       "0                    87.107763   87.107763\n",
       "1                    86.843261   86.843261\n",
       "2                    86.842308   86.842308\n",
       "3                    87.226430   87.226430\n",
       "4                    86.688794   86.688794\n",
       "...                        ...         ...\n",
       "16855                89.574376   89.574376\n",
       "16856                87.724007   87.724007\n",
       "16857                88.890579   88.890579\n",
       "16858                89.858126   89.858126\n",
       "16859                89.514960   89.514960\n",
       "\n",
       "[16860 rows x 2 columns]"
      ]
     },
     "execution_count": 4,
     "metadata": {},
     "output_type": "execute_result"
    }
   ],
   "source": [
    "f = df_train['rougher.input.feed_au']\n",
    "c = df_train['rougher.output.concentrate_au']\n",
    "t = df_train['rougher.output.tail_au']\n",
    "\n",
    "df_train['calk_recov'] = ((c * (f - t)) / (f * (c - t))) * 100\n",
    "\n",
    "df_train.loc[:,['rougher.output.recovery','calk_recov']]"
   ]
  },
  {
   "cell_type": "markdown",
   "metadata": {},
   "source": [
    "Далее рассчитаем MAE между рассчитанными значениями и исходными. Метрику рассчитываем для не пустых значений."
   ]
  },
  {
   "cell_type": "code",
   "execution_count": 5,
   "metadata": {},
   "outputs": [
    {
     "name": "stdout",
     "output_type": "stream",
     "text": [
      "MAE: 9.444891926100695e-15\n"
     ]
    }
   ],
   "source": [
    "mae = mean_absolute_error(df_train[df_train['calk_recov'].notnull()&df_train['rougher.output.recovery'].notnull()].calk_recov,\\\n",
    "                          df_train.loc[df_train['calk_recov'].notnull()&df_train['rougher.output.recovery'].notnull(),['rougher.output.recovery']])\n",
    "print ('MAE:', mae)"
   ]
  },
  {
   "cell_type": "markdown",
   "metadata": {},
   "source": [
    "Среднее абсолютное отклонение очень мало, поэтому можем считать наши рассчеты корректными."
   ]
  },
  {
   "cell_type": "markdown",
   "metadata": {},
   "source": [
    "### Aнализ признаков, недоступных в тестовой выборке"
   ]
  },
  {
   "cell_type": "code",
   "execution_count": 6,
   "metadata": {},
   "outputs": [
    {
     "data": {
      "text/plain": [
       "{'calk_recov',\n",
       " 'final.output.concentrate_ag',\n",
       " 'final.output.concentrate_au',\n",
       " 'final.output.concentrate_pb',\n",
       " 'final.output.concentrate_sol',\n",
       " 'final.output.recovery',\n",
       " 'final.output.tail_ag',\n",
       " 'final.output.tail_au',\n",
       " 'final.output.tail_pb',\n",
       " 'final.output.tail_sol',\n",
       " 'primary_cleaner.output.concentrate_ag',\n",
       " 'primary_cleaner.output.concentrate_au',\n",
       " 'primary_cleaner.output.concentrate_pb',\n",
       " 'primary_cleaner.output.concentrate_sol',\n",
       " 'primary_cleaner.output.tail_ag',\n",
       " 'primary_cleaner.output.tail_au',\n",
       " 'primary_cleaner.output.tail_pb',\n",
       " 'primary_cleaner.output.tail_sol',\n",
       " 'rougher.calculation.au_pb_ratio',\n",
       " 'rougher.calculation.floatbank10_sulfate_to_au_feed',\n",
       " 'rougher.calculation.floatbank11_sulfate_to_au_feed',\n",
       " 'rougher.calculation.sulfate_to_au_concentrate',\n",
       " 'rougher.output.concentrate_ag',\n",
       " 'rougher.output.concentrate_au',\n",
       " 'rougher.output.concentrate_pb',\n",
       " 'rougher.output.concentrate_sol',\n",
       " 'rougher.output.recovery',\n",
       " 'rougher.output.tail_ag',\n",
       " 'rougher.output.tail_au',\n",
       " 'rougher.output.tail_pb',\n",
       " 'rougher.output.tail_sol',\n",
       " 'secondary_cleaner.output.tail_ag',\n",
       " 'secondary_cleaner.output.tail_au',\n",
       " 'secondary_cleaner.output.tail_pb',\n",
       " 'secondary_cleaner.output.tail_sol'}"
      ]
     },
     "execution_count": 6,
     "metadata": {},
     "output_type": "execute_result"
    }
   ],
   "source": [
    "set(df_train.columns).symmetric_difference(set(df_test.columns))"
   ]
  },
  {
   "cell_type": "markdown",
   "metadata": {},
   "source": [
    "В тестовой выборке отсутствуют признаки по параметрам продукта, те которые храктеризуют результаты ротации, первичной очистки и вторичной очистки."
   ]
  },
  {
   "cell_type": "markdown",
   "metadata": {},
   "source": [
    "### Обработка данных"
   ]
  },
  {
   "cell_type": "markdown",
   "metadata": {},
   "source": [
    "Обработку пропусков реализуем в блоке 3. Так как изначально будем использовать модель в которой допускаются пропуски, а во втором случае заполним пропуски и применим линейную регрессию."
   ]
  },
  {
   "cell_type": "markdown",
   "metadata": {},
   "source": [
    "Для проверки лучшей модели на тестовой выборке получим таргеты этой выборки из полного набора данных."
   ]
  },
  {
   "cell_type": "code",
   "execution_count": 7,
   "metadata": {},
   "outputs": [
    {
     "data": {
      "text/plain": [
       "(5856, 55)"
      ]
     },
     "execution_count": 7,
     "metadata": {},
     "output_type": "execute_result"
    }
   ],
   "source": [
    "df_test = df_test.merge(df_full[['date','rougher.output.recovery','final.output.recovery']], how='inner', on='date')\n",
    "df_test.shape"
   ]
  },
  {
   "cell_type": "markdown",
   "metadata": {},
   "source": [
    " <a id='2'></a>\n",
    "## Анализ данных"
   ]
  },
  {
   "cell_type": "markdown",
   "metadata": {},
   "source": [
    "### Анализ концентрации металлов (Au, Ag, Pb) на различных этапах очистки"
   ]
  },
  {
   "cell_type": "code",
   "execution_count": 8,
   "metadata": {},
   "outputs": [
    {
     "name": "stdout",
     "output_type": "stream",
     "text": [
      "Золото 19.644663243437243 32.64886678622643 44.49887355051948\n"
     ]
    }
   ],
   "source": [
    "print('Золото',df_train['rougher.output.concentrate_au'].median(), \\\n",
    "      df_train['primary_cleaner.output.concentrate_au'].median(),df_train['final.output.concentrate_au'].median())"
   ]
  },
  {
   "cell_type": "code",
   "execution_count": 9,
   "metadata": {},
   "outputs": [
    {
     "name": "stdout",
     "output_type": "stream",
     "text": [
      "Серебро 11.459861576135815 7.997142691679294 4.869346062654256\n"
     ]
    }
   ],
   "source": [
    "print('Серебро',df_train['rougher.output.concentrate_ag'].median(), \\\n",
    "      df_train['primary_cleaner.output.concentrate_ag'].median(),df_train['final.output.concentrate_ag'].median())"
   ]
  },
  {
   "cell_type": "code",
   "execution_count": 10,
   "metadata": {},
   "outputs": [
    {
     "name": "stdout",
     "output_type": "stream",
     "text": [
      "Свинец 7.583772881825764 9.618909559117423 10.065315947532657\n"
     ]
    }
   ],
   "source": [
    "print('Свинец',df_train['rougher.output.concentrate_pb'].median(), \\\n",
    "      df_train['primary_cleaner.output.concentrate_pb'].median(),df_train['final.output.concentrate_pb'].median())"
   ]
  },
  {
   "cell_type": "markdown",
   "metadata": {},
   "source": [
    "Для анализа концентрации металлов на этапах очистки брали медианное значение. Конценрация золота растет после каждого этапа очистки - что логично, это основная задача этих процессов. Концентрация серебра уменьшается, а вот концентрация свиндца не сильно, но увеличивается."
   ]
  },
  {
   "cell_type": "markdown",
   "metadata": {},
   "source": [
    "### Сравнение распределений размеров гранул сырья на обучающей и тестовой выборках"
   ]
  },
  {
   "cell_type": "code",
   "execution_count": 11,
   "metadata": {},
   "outputs": [
    {
     "data": {
      "image/png": "[encoded data removed]",
      "text/plain": [
       "<Figure size 432x288 with 1 Axes>"
      ]
     },
     "metadata": {
      "needs_background": "light"
     },
     "output_type": "display_data"
    },
    {
     "data": {
      "text/plain": [
       "<matplotlib.axes._subplots.AxesSubplot at 0x7fdeae2eea50>"
      ]
     },
     "execution_count": 11,
     "metadata": {},
     "output_type": "execute_result"
    },
    {
     "data": {
      "image/png": "[encoded data removed]",
      "text/plain": [
       "<Figure size 432x288 with 1 Axes>"
      ]
     },
     "metadata": {
      "needs_background": "light"
     },
     "output_type": "display_data"
    }
   ],
   "source": [
    "df_train['rougher.input.feed_size'].hist(bins = 50)\n",
    "df_test['rougher.input.feed_size'].hist(bins = 50)\n",
    "plt.show()\n",
    "\n",
    "df_train['primary_cleaner.input.feed_size'].hist(bins = 50)\n",
    "df_test['primary_cleaner.input.feed_size'].hist(bins = 50)"
   ]
  },
  {
   "cell_type": "markdown",
   "metadata": {},
   "source": [
    "Распределения гранул сырья на разных выборках перед двумя этапами существенно не различаются."
   ]
  },
  {
   "cell_type": "markdown",
   "metadata": {},
   "source": [
    "### Исследование суммарной концентрации всех веществ на разных стадиях: в сырье, в черновом и финальном концентратах"
   ]
  },
  {
   "cell_type": "markdown",
   "metadata": {},
   "source": [
    "Рассчитаем суммарные концентрации металлов в сырье, черновом и финальных концентратах"
   ]
  },
  {
   "cell_type": "code",
   "execution_count": 12,
   "metadata": {},
   "outputs": [],
   "source": [
    "# сырье\n",
    "df_train['rougher.input.feed_all'] = df_train['rougher.input.feed_ag'] + df_train['rougher.input.feed_au'] \\\n",
    "+ df_train['rougher.input.feed_pb'] + df_train['rougher.input.feed_sol']\n",
    "\n",
    "df_test['rougher.input.feed_all'] = df_test['rougher.input.feed_ag'] + df_test['rougher.input.feed_au'] \\\n",
    "+ df_test['rougher.input.feed_pb'] + df_test['rougher.input.feed_sol']\n",
    "\n",
    "# черновой\n",
    "df_train['rougher.output.concentrate_all'] = df_train['rougher.output.concentrate_ag'] \\\n",
    "+ df_train['rougher.output.concentrate_au'] + df_train['rougher.output.concentrate_pb'] \\\n",
    "+ df_train['rougher.output.concentrate_sol']\n",
    "\n",
    "# финальный\n",
    "df_train['final.output.concentrate_all'] = df_train['final.output.concentrate_ag'] \\\n",
    "+ df_train['final.output.concentrate_au'] + df_train['final.output.concentrate_pb'] \\\n",
    "+ df_train['final.output.concentrate_sol']\n"
   ]
  },
  {
   "cell_type": "markdown",
   "metadata": {},
   "source": [
    "Построим распределения"
   ]
  },
  {
   "cell_type": "code",
   "execution_count": 13,
   "metadata": {},
   "outputs": [
    {
     "name": "stdout",
     "output_type": "stream",
     "text": [
      "Сырье\n"
     ]
    },
    {
     "data": {
      "image/png": "[encoded data removed]",
      "text/plain": [
       "<Figure size 432x288 with 1 Axes>"
      ]
     },
     "metadata": {
      "needs_background": "light"
     },
     "output_type": "display_data"
    },
    {
     "name": "stdout",
     "output_type": "stream",
     "text": [
      "Черновой концентрат\n"
     ]
    },
    {
     "data": {
      "image/png": "[encoded data removed]",
      "text/plain": [
       "<Figure size 432x288 with 1 Axes>"
      ]
     },
     "metadata": {
      "needs_background": "light"
     },
     "output_type": "display_data"
    },
    {
     "name": "stdout",
     "output_type": "stream",
     "text": [
      "Финальный концентрат\n"
     ]
    },
    {
     "data": {
      "image/png": "[encoded data removed]",
      "text/plain": [
       "<Figure size 432x288 with 1 Axes>"
      ]
     },
     "metadata": {
      "needs_background": "light"
     },
     "output_type": "display_data"
    }
   ],
   "source": [
    "print('Сырье')\n",
    "df_train['rougher.input.feed_all'].hist(bins = 50)\n",
    "df_test['rougher.input.feed_all'].hist(bins = 50)\n",
    "plt.show()\n",
    "\n",
    "print('Черновой концентрат')\n",
    "df_train['rougher.output.concentrate_all'].hist(bins = 50)\n",
    "plt.show()\n",
    "\n",
    "print('Финальный концентрат')\n",
    "df_train['final.output.concentrate_all'].hist(bins = 50)\n",
    "plt.show()"
   ]
  },
  {
   "cell_type": "markdown",
   "metadata": {},
   "source": [
    "Обнаружены нулевые и очень малые значения для общей концентрации металлов. Удалим строки из тренировочной и тестовой выборок в которых общая концентрация металлов в исходном сырье меньше 1."
   ]
  },
  {
   "cell_type": "code",
   "execution_count": 14,
   "metadata": {},
   "outputs": [],
   "source": [
    "df_train = df_train[df_train['rougher.input.feed_all'] > 1]\n",
    "df_test = df_test[df_test['rougher.input.feed_all'] > 1]"
   ]
  },
  {
   "cell_type": "code",
   "execution_count": 15,
   "metadata": {},
   "outputs": [
    {
     "name": "stdout",
     "output_type": "stream",
     "text": [
      "Сырье\n"
     ]
    },
    {
     "data": {
      "image/png": "[encoded data removed]",
      "text/plain": [
       "<Figure size 432x288 with 1 Axes>"
      ]
     },
     "metadata": {
      "needs_background": "light"
     },
     "output_type": "display_data"
    }
   ],
   "source": [
    "print('Сырье')\n",
    "df_train['rougher.input.feed_all'].hist(bins = 50)\n",
    "df_test['rougher.input.feed_all'].hist(bins = 50)\n",
    "plt.show()"
   ]
  },
  {
   "cell_type": "markdown",
   "metadata": {},
   "source": [
    "Подобного рода выбросы могут повлиять на предсказания для неаномальных признаков. Удаление таких наблюдений из тестовой выборки, с точки зрения бизнеса, не должно повлиять на итоговую цель, так как нет смысла делать предсказания для незначимых наблюдений с 0 или очень малой концентрацией металлов в исходном сырье."
   ]
  },
  {
   "cell_type": "markdown",
   "metadata": {},
   "source": [
    " <a id='3'></a>\n",
    "## Построение и применение модели"
   ]
  },
  {
   "cell_type": "markdown",
   "metadata": {},
   "source": [
    "### Подготовка данных"
   ]
  },
  {
   "cell_type": "markdown",
   "metadata": {},
   "source": [
    "Так как тестовая выборка не содержит в себе полный набор фичей из обучающей, обучать модель будем только по фичам, которые присутствуют в тестовой выборке."
   ]
  },
  {
   "cell_type": "markdown",
   "metadata": {},
   "source": [
    "Нам необходимо предсказать два параметра:\n",
    "    \n",
    "- эффективность обогащения чернового концентрата `rougher.output.recovery`;\n",
    "- эффективность обогащения финального концентрата `final.output.recovery`.\n",
    "\n",
    "По этой причине будем строить две разные модели с разными наборами фичей, так как черновой концентрат формируется на первом этапе для его предсказания понадобятся следующие признаки:\n",
    "\n",
    "- rougher.input.feed_ag\n",
    "- rougher.input.feed_pb\n",
    "- rougher.input.feed_rate\n",
    "- rougher.input.feed_size\n",
    "- rougher.input.feed_sol\n",
    "- rougher.input.feed_au\n",
    "- rougher.input.floatbank10_sulfate\n",
    "- rougher.input.floatbank10_xanthate\n",
    "- rougher.input.floatbank11_sulfate\n",
    "- rougher.input.floatbank11_xanthate\n",
    "- rougher.state.floatbank10_a_air\n",
    "- rougher.state.floatbank10_a_level\n",
    "- rougher.state.floatbank10_b_air\n",
    "- rougher.state.floatbank10_b_level\n",
    "- rougher.state.floatbank10_c_air\n",
    "- rougher.state.floatbank10_c_level\n",
    "- rougher.state.floatbank10_d_air\n",
    "- rougher.state.floatbank10_d_level\n",
    "- rougher.state.floatbank10_e_air\n",
    "- rougher.state.floatbank10_e_level\n",
    "- rougher.state.floatbank10_f_air\n",
    "- rougher.state.floatbank10_f_level\n",
    "\n",
    "**Целевая переменная** в тренировочной выборке: `rougher.output.recovery`"
   ]
  },
  {
   "cell_type": "markdown",
   "metadata": {},
   "source": [
    "Для модели финального концентрата будем использовать фичи для первого этапа и оставшиеся признаки (кроме целевого). \n",
    "\n",
    "**Целевая переменная** в тренировочной выборке `final.output.recovery`.\n"
   ]
  },
  {
   "cell_type": "markdown",
   "metadata": {},
   "source": [
    "Далее сформируем датасеты признаков и целевой переменной."
   ]
  },
  {
   "cell_type": "code",
   "execution_count": 16,
   "metadata": {},
   "outputs": [],
   "source": [
    "list_1 = ['rougher.input.feed_ag',\n",
    "       'rougher.input.feed_pb', 'rougher.input.feed_rate',\n",
    "       'rougher.input.feed_size', 'rougher.input.feed_sol',\n",
    "       'rougher.input.feed_au', 'rougher.input.floatbank10_sulfate',\n",
    "       'rougher.input.floatbank10_xanthate',\n",
    "       'rougher.input.floatbank11_sulfate',\n",
    "       'rougher.input.floatbank11_xanthate', 'rougher.state.floatbank10_a_air',\n",
    "       'rougher.state.floatbank10_a_level', 'rougher.state.floatbank10_b_air',\n",
    "       'rougher.state.floatbank10_b_level', 'rougher.state.floatbank10_c_air',\n",
    "       'rougher.state.floatbank10_c_level', 'rougher.state.floatbank10_d_air',\n",
    "       'rougher.state.floatbank10_d_level', 'rougher.state.floatbank10_e_air',\n",
    "       'rougher.state.floatbank10_e_level', 'rougher.state.floatbank10_f_air',\n",
    "       'rougher.state.floatbank10_f_level']\n",
    "\n",
    "list_2 = ['primary_cleaner.input.sulfate',\n",
    "       'primary_cleaner.input.depressant', 'primary_cleaner.input.feed_size',\n",
    "       'primary_cleaner.input.xanthate',\n",
    "       'primary_cleaner.state.floatbank8_a_air',\n",
    "       'primary_cleaner.state.floatbank8_a_level',\n",
    "       'primary_cleaner.state.floatbank8_b_air',\n",
    "       'primary_cleaner.state.floatbank8_b_level',\n",
    "       'primary_cleaner.state.floatbank8_c_air',\n",
    "       'primary_cleaner.state.floatbank8_c_level',\n",
    "       'primary_cleaner.state.floatbank8_d_air',\n",
    "       'primary_cleaner.state.floatbank8_d_level', 'rougher.input.feed_ag',\n",
    "       'rougher.input.feed_pb', 'rougher.input.feed_rate',\n",
    "       'rougher.input.feed_size', 'rougher.input.feed_sol',\n",
    "       'rougher.input.feed_au', 'rougher.input.floatbank10_sulfate',\n",
    "       'rougher.input.floatbank10_xanthate',\n",
    "       'rougher.input.floatbank11_sulfate',\n",
    "       'rougher.input.floatbank11_xanthate', 'rougher.state.floatbank10_a_air',\n",
    "       'rougher.state.floatbank10_a_level', 'rougher.state.floatbank10_b_air',\n",
    "       'rougher.state.floatbank10_b_level', 'rougher.state.floatbank10_c_air',\n",
    "       'rougher.state.floatbank10_c_level', 'rougher.state.floatbank10_d_air',\n",
    "       'rougher.state.floatbank10_d_level', 'rougher.state.floatbank10_e_air',\n",
    "       'rougher.state.floatbank10_e_level', 'rougher.state.floatbank10_f_air',\n",
    "       'rougher.state.floatbank10_f_level',\n",
    "       'secondary_cleaner.state.floatbank2_a_air',\n",
    "       'secondary_cleaner.state.floatbank2_a_level',\n",
    "       'secondary_cleaner.state.floatbank2_b_air',\n",
    "       'secondary_cleaner.state.floatbank2_b_level',\n",
    "       'secondary_cleaner.state.floatbank3_a_air',\n",
    "       'secondary_cleaner.state.floatbank3_a_level',\n",
    "       'secondary_cleaner.state.floatbank3_b_air',\n",
    "       'secondary_cleaner.state.floatbank3_b_level',\n",
    "       'secondary_cleaner.state.floatbank4_a_air',\n",
    "       'secondary_cleaner.state.floatbank4_a_level',\n",
    "       'secondary_cleaner.state.floatbank4_b_air',\n",
    "       'secondary_cleaner.state.floatbank4_b_level',\n",
    "       'secondary_cleaner.state.floatbank5_a_air',\n",
    "       'secondary_cleaner.state.floatbank5_a_level',\n",
    "       'secondary_cleaner.state.floatbank5_b_air',\n",
    "       'secondary_cleaner.state.floatbank5_b_level',\n",
    "       'secondary_cleaner.state.floatbank6_a_air',\n",
    "       'secondary_cleaner.state.floatbank6_a_level']\n",
    "\n",
    "features_train_1 = df_train[list_1]\n",
    "target_train_1 = df_train['rougher.output.recovery']\n",
    "features_test_1 = df_test[list_1]\n",
    "target_test_1 = df_test['rougher.output.recovery']\n",
    "\n",
    "features_train_2 = df_train[list_2]\n",
    "target_train_2 = df_train['final.output.recovery']\n",
    "features_test_2 = df_test[list_2]\n",
    "target_test_2 = df_test['final.output.recovery']"
   ]
  },
  {
   "cell_type": "markdown",
   "metadata": {},
   "source": [
    "Оставим в первой и второй обучающей выборке записи с непустыми таргетами. Так же подготовим для разных моделей разные выборки (в первом случае не заполняем пропуски, во втором заполняем)."
   ]
  },
  {
   "cell_type": "code",
   "execution_count": 17,
   "metadata": {},
   "outputs": [],
   "source": [
    "features_train_1 = features_train_1[features_train_1.index.isin(target_train_1[target_train_1.notnull()].index)]\n",
    "features_train_2 = features_train_2[features_train_2.index.isin(target_train_2[target_train_2.notnull()].index)]\n",
    "target_train_1 = target_train_1[target_train_1.notnull()]\n",
    "target_train_2 = target_train_2[target_train_2.notnull()]\n",
    "\n",
    "# доп выборки для логистической регрессии\n",
    "features_train_1_1 = features_train_1.copy()\n",
    "features_train_2_1 = features_train_2.copy()\n",
    "target_train_1_1 = target_train_1.copy()\n",
    "target_train_2_1 = target_train_2.copy()"
   ]
  },
  {
   "cell_type": "markdown",
   "metadata": {},
   "source": [
    "Масштабируем признаки."
   ]
  },
  {
   "cell_type": "code",
   "execution_count": 18,
   "metadata": {},
   "outputs": [],
   "source": [
    "pd.options.mode.chained_assignment = None\n",
    "\n",
    "scaler_1 = StandardScaler()\n",
    "scaler_1.fit(features_train_1)\n",
    "features_train_1 = scaler_1.transform(features_train_1)\n",
    "features_test_1 = scaler_1.transform(features_test_1)\n",
    "\n",
    "scaler_2 = StandardScaler()\n",
    "scaler_2.fit(features_train_2)\n",
    "features_train_2 = scaler_2.transform(features_train_2)\n",
    "features_test_2 = scaler_2.transform(features_test_2)"
   ]
  },
  {
   "cell_type": "code",
   "execution_count": 19,
   "metadata": {},
   "outputs": [
    {
     "data": {
      "text/plain": [
       "((14073, 22), (14755, 52), (14073, 22), (14755, 52), (14073,), (14755,))"
      ]
     },
     "execution_count": 19,
     "metadata": {},
     "output_type": "execute_result"
    }
   ],
   "source": [
    "features_train_1.shape, features_train_2.shape, features_train_1_1.shape, features_train_2_1.shape, target_train_1.shape, target_train_2.shape"
   ]
  },
  {
   "cell_type": "markdown",
   "metadata": {},
   "source": [
    "### Применение модели CatBoostRegressor и проверка кросс-валидацией"
   ]
  },
  {
   "cell_type": "markdown",
   "metadata": {},
   "source": [
    "Строим модель и считаем sMAPE для первого целевого признака с помощью кросс-валидации."
   ]
  },
  {
   "cell_type": "code",
   "execution_count": 20,
   "metadata": {},
   "outputs": [
    {
     "name": "stdout",
     "output_type": "stream",
     "text": [
      "0:\tlearn: 15.4077176\ttotal: 53ms\tremaining: 53s\n",
      "100:\tlearn: 12.9977500\ttotal: 4.41s\tremaining: 39.3s\n",
      "200:\tlearn: 12.1215643\ttotal: 8.37s\tremaining: 33.3s\n",
      "300:\tlearn: 11.5657394\ttotal: 12.5s\tremaining: 29.1s\n",
      "400:\tlearn: 11.1806709\ttotal: 16.7s\tremaining: 24.9s\n",
      "500:\tlearn: 10.8452278\ttotal: 21.3s\tremaining: 21.2s\n",
      "600:\tlearn: 10.5985191\ttotal: 25.7s\tremaining: 17s\n",
      "700:\tlearn: 10.3812434\ttotal: 30.5s\tremaining: 13s\n",
      "800:\tlearn: 10.1938935\ttotal: 34.9s\tremaining: 8.67s\n",
      "900:\tlearn: 10.0011108\ttotal: 38.9s\tremaining: 4.28s\n",
      "999:\tlearn: 9.8268341\ttotal: 43.1s\tremaining: 0us\n",
      "0:\tlearn: 15.7290261\ttotal: 4.92ms\tremaining: 4.91s\n",
      "100:\tlearn: 13.3215506\ttotal: 4.02s\tremaining: 35.8s\n",
      "200:\tlearn: 12.3359714\ttotal: 8.16s\tremaining: 32.5s\n",
      "300:\tlearn: 11.7488009\ttotal: 13.6s\tremaining: 31.6s\n",
      "400:\tlearn: 11.3587267\ttotal: 20.2s\tremaining: 30.1s\n",
      "500:\tlearn: 11.0386309\ttotal: 26.5s\tremaining: 26.4s\n",
      "600:\tlearn: 10.7900967\ttotal: 32.8s\tremaining: 21.8s\n",
      "700:\tlearn: 10.5697713\ttotal: 37.8s\tremaining: 16.1s\n",
      "800:\tlearn: 10.3623482\ttotal: 42.1s\tremaining: 10.5s\n",
      "900:\tlearn: 10.1675719\ttotal: 46.2s\tremaining: 5.07s\n",
      "999:\tlearn: 9.9900311\ttotal: 50.3s\tremaining: 0us\n",
      "0:\tlearn: 13.6981328\ttotal: 4.7ms\tremaining: 4.69s\n",
      "100:\tlearn: 11.7393536\ttotal: 4.18s\tremaining: 37.2s\n",
      "200:\tlearn: 10.9673086\ttotal: 8.22s\tremaining: 32.7s\n",
      "300:\tlearn: 10.4831601\ttotal: 12.6s\tremaining: 29.2s\n",
      "400:\tlearn: 10.1059071\ttotal: 16.6s\tremaining: 24.8s\n",
      "500:\tlearn: 9.8019302\ttotal: 20.9s\tremaining: 20.8s\n",
      "600:\tlearn: 9.5657376\ttotal: 24.9s\tremaining: 16.5s\n",
      "700:\tlearn: 9.3675606\ttotal: 29s\tremaining: 12.4s\n",
      "800:\tlearn: 9.1919613\ttotal: 33.2s\tremaining: 8.25s\n",
      "900:\tlearn: 9.0129692\ttotal: 37.4s\tremaining: 4.11s\n",
      "999:\tlearn: 8.8502458\ttotal: 41.2s\tremaining: 0us\n",
      "0:\tlearn: 13.2551937\ttotal: 4.69ms\tremaining: 4.69s\n",
      "100:\tlearn: 10.5452029\ttotal: 4.24s\tremaining: 37.8s\n",
      "200:\tlearn: 9.7180928\ttotal: 8.49s\tremaining: 33.8s\n",
      "300:\tlearn: 9.3203997\ttotal: 12.6s\tremaining: 29.3s\n",
      "400:\tlearn: 9.0481585\ttotal: 16.8s\tremaining: 25.1s\n",
      "500:\tlearn: 8.8221445\ttotal: 21.1s\tremaining: 21s\n",
      "600:\tlearn: 8.6329683\ttotal: 25.4s\tremaining: 16.8s\n",
      "700:\tlearn: 8.4537577\ttotal: 29.6s\tremaining: 12.6s\n",
      "800:\tlearn: 8.2952824\ttotal: 33.9s\tremaining: 8.41s\n",
      "900:\tlearn: 8.1418827\ttotal: 38.2s\tremaining: 4.2s\n",
      "999:\tlearn: 7.9936571\ttotal: 42.3s\tremaining: 0us\n",
      "0:\tlearn: 15.8171047\ttotal: 4.64ms\tremaining: 4.63s\n",
      "100:\tlearn: 13.6418895\ttotal: 4.61s\tremaining: 41.1s\n",
      "200:\tlearn: 12.7880516\ttotal: 9.05s\tremaining: 36s\n",
      "300:\tlearn: 12.2228211\ttotal: 13.1s\tremaining: 30.4s\n",
      "400:\tlearn: 11.8224521\ttotal: 18.1s\tremaining: 27s\n",
      "500:\tlearn: 11.5095121\ttotal: 22.5s\tremaining: 22.4s\n",
      "600:\tlearn: 11.2492707\ttotal: 26.6s\tremaining: 17.7s\n",
      "700:\tlearn: 11.0312269\ttotal: 30.7s\tremaining: 13.1s\n",
      "800:\tlearn: 10.8203932\ttotal: 35s\tremaining: 8.68s\n",
      "900:\tlearn: 10.6249885\ttotal: 39.8s\tremaining: 4.37s\n",
      "999:\tlearn: 10.4418998\ttotal: 44.8s\tremaining: 0us\n"
     ]
    }
   ],
   "source": [
    "model_1 = CatBoostRegressor(learning_rate=0.01,verbose=100,early_stopping_rounds=200)\n",
    "res_1 = cross_val_predict(model_1, features_train_1, target_train_1, cv=5)"
   ]
  },
  {
   "cell_type": "code",
   "execution_count": 22,
   "metadata": {},
   "outputs": [],
   "source": [
    "def mape(row):\n",
    "    return abs(row.Forecast - row.Actual) / ((abs(row.Actual) + abs(row.Forecast))/2)"
   ]
  },
  {
   "cell_type": "code",
   "execution_count": 22,
   "metadata": {},
   "outputs": [
    {
     "name": "stdout",
     "output_type": "stream",
     "text": [
      "sMAPE для эффективности обогащения чернового концентрата: 11.715227761546815\n"
     ]
    }
   ],
   "source": [
    "df_1=pd.DataFrame.from_dict({'Actual':list(target_train_1), 'Forecast':list(res_1)})\n",
    "\n",
    "smape_r = (df_1.apply(mape, axis=1).sum() * (1/len(df_1))) * 100\n",
    "\n",
    "print ('sMAPE для эффективности обогащения чернового концентрата:',smape_r)"
   ]
  },
  {
   "cell_type": "markdown",
   "metadata": {},
   "source": [
    "Аналогичным образом делаем для финального концентрата."
   ]
  },
  {
   "cell_type": "code",
   "execution_count": 23,
   "metadata": {},
   "outputs": [
    {
     "name": "stdout",
     "output_type": "stream",
     "text": [
      "0:\tlearn: 10.4325460\ttotal: 16.1ms\tremaining: 16.1s\n",
      "100:\tlearn: 8.6560896\ttotal: 6.94s\tremaining: 1m 1s\n",
      "200:\tlearn: 8.0167896\ttotal: 14.1s\tremaining: 56s\n",
      "300:\tlearn: 7.6858151\ttotal: 20.9s\tremaining: 48.6s\n",
      "400:\tlearn: 7.4669331\ttotal: 27.6s\tremaining: 41.2s\n",
      "500:\tlearn: 7.2877241\ttotal: 34.2s\tremaining: 34.1s\n",
      "600:\tlearn: 7.1342901\ttotal: 41.1s\tremaining: 27.3s\n",
      "700:\tlearn: 6.9956600\ttotal: 47.8s\tremaining: 20.4s\n",
      "800:\tlearn: 6.8737428\ttotal: 54.4s\tremaining: 13.5s\n",
      "900:\tlearn: 6.7602290\ttotal: 1m\tremaining: 6.69s\n",
      "999:\tlearn: 6.6442673\ttotal: 1m 9s\tremaining: 0us\n",
      "0:\tlearn: 10.5129513\ttotal: 8ms\tremaining: 7.99s\n",
      "100:\tlearn: 8.7786162\ttotal: 7.33s\tremaining: 1m 5s\n",
      "200:\tlearn: 8.1428052\ttotal: 14.2s\tremaining: 56.3s\n",
      "300:\tlearn: 7.8041898\ttotal: 21.5s\tremaining: 49.9s\n",
      "400:\tlearn: 7.5911663\ttotal: 28.1s\tremaining: 42s\n",
      "500:\tlearn: 7.4208757\ttotal: 35.2s\tremaining: 35.1s\n",
      "600:\tlearn: 7.2776306\ttotal: 44.3s\tremaining: 29.4s\n",
      "700:\tlearn: 7.1441802\ttotal: 52.6s\tremaining: 22.4s\n",
      "800:\tlearn: 7.0253112\ttotal: 59.3s\tremaining: 14.7s\n",
      "900:\tlearn: 6.9139406\ttotal: 1m 5s\tremaining: 7.25s\n",
      "999:\tlearn: 6.8089789\ttotal: 1m 12s\tremaining: 0us\n",
      "0:\tlearn: 10.1918992\ttotal: 15ms\tremaining: 15s\n",
      "100:\tlearn: 8.5223382\ttotal: 8.16s\tremaining: 1m 12s\n",
      "200:\tlearn: 7.9028571\ttotal: 15.2s\tremaining: 1m\n",
      "300:\tlearn: 7.5770563\ttotal: 22.1s\tremaining: 51.2s\n",
      "400:\tlearn: 7.3556079\ttotal: 29.1s\tremaining: 43.4s\n",
      "500:\tlearn: 7.1812340\ttotal: 36s\tremaining: 35.9s\n",
      "600:\tlearn: 7.0282721\ttotal: 42.6s\tremaining: 28.3s\n",
      "700:\tlearn: 6.8917609\ttotal: 50s\tremaining: 21.3s\n",
      "800:\tlearn: 6.7665446\ttotal: 56.8s\tremaining: 14.1s\n",
      "900:\tlearn: 6.6469991\ttotal: 1m 4s\tremaining: 7.04s\n",
      "999:\tlearn: 6.5321382\ttotal: 1m 10s\tremaining: 0us\n",
      "0:\tlearn: 10.0604947\ttotal: 8.93ms\tremaining: 8.92s\n",
      "100:\tlearn: 8.6064832\ttotal: 6.77s\tremaining: 1m\n",
      "200:\tlearn: 8.0536008\ttotal: 13.5s\tremaining: 53.7s\n",
      "300:\tlearn: 7.7364547\ttotal: 20.2s\tremaining: 46.8s\n",
      "400:\tlearn: 7.5182996\ttotal: 26.9s\tremaining: 40.2s\n",
      "500:\tlearn: 7.3337072\ttotal: 33.5s\tremaining: 33.4s\n",
      "600:\tlearn: 7.1813342\ttotal: 40.3s\tremaining: 26.7s\n",
      "700:\tlearn: 7.0419752\ttotal: 46.9s\tremaining: 20s\n",
      "800:\tlearn: 6.9191701\ttotal: 53.7s\tremaining: 13.3s\n",
      "900:\tlearn: 6.8022107\ttotal: 1m\tremaining: 6.65s\n",
      "999:\tlearn: 6.6922825\ttotal: 1m 7s\tremaining: 0us\n",
      "0:\tlearn: 10.5220921\ttotal: 7.61ms\tremaining: 7.6s\n",
      "100:\tlearn: 8.7551129\ttotal: 6.77s\tremaining: 1m\n",
      "200:\tlearn: 8.1024189\ttotal: 13.5s\tremaining: 53.7s\n",
      "300:\tlearn: 7.7516572\ttotal: 20.3s\tremaining: 47s\n",
      "400:\tlearn: 7.5143058\ttotal: 27.4s\tremaining: 40.9s\n",
      "500:\tlearn: 7.3258376\ttotal: 34.1s\tremaining: 34s\n",
      "600:\tlearn: 7.1674418\ttotal: 41.5s\tremaining: 27.5s\n",
      "700:\tlearn: 7.0274067\ttotal: 48.3s\tremaining: 20.6s\n",
      "800:\tlearn: 6.8967940\ttotal: 55.1s\tremaining: 13.7s\n",
      "900:\tlearn: 6.7804165\ttotal: 1m 1s\tremaining: 6.76s\n",
      "999:\tlearn: 6.6690915\ttotal: 1m 8s\tremaining: 0us\n"
     ]
    }
   ],
   "source": [
    "model_2 = CatBoostRegressor(learning_rate=0.01,verbose=100,early_stopping_rounds=200)\n",
    "res_2 = cross_val_predict(model_2, features_train_2, target_train_2, cv=5)"
   ]
  },
  {
   "cell_type": "code",
   "execution_count": 24,
   "metadata": {},
   "outputs": [
    {
     "name": "stdout",
     "output_type": "stream",
     "text": [
      "sMAPE для эффективности обогащения финального концентрата: 10.246509610139412\n"
     ]
    }
   ],
   "source": [
    "df_2=pd.DataFrame.from_dict({'Actual':list(target_train_2), 'Forecast':list(res_2)})\n",
    "\n",
    "smape_f = (df_2.apply(mape, axis=1).sum() * (1/len(df_2))) * 100\n",
    "\n",
    "print ('sMAPE для эффективности обогащения финального концентрата:',smape_f)"
   ]
  },
  {
   "cell_type": "markdown",
   "metadata": {},
   "source": [
    "Итоговый sMAPE:"
   ]
  },
  {
   "attachments": {
    "rec_1.jpg": {
     "image/jpeg": "[encoded data removed]"
    }
   },
   "cell_type": "markdown",
   "metadata": {},
   "source": [
    "![rec_1.jpg](attachment:rec_1.jpg)"
   ]
  },
  {
   "cell_type": "code",
   "execution_count": 25,
   "metadata": {},
   "outputs": [
    {
     "name": "stdout",
     "output_type": "stream",
     "text": [
      "Итоговое sMAPE: 10.613689147991263\n"
     ]
    }
   ],
   "source": [
    "print ('Итоговое sMAPE:',smape_r * 0.25 + smape_f * 0.75) "
   ]
  },
  {
   "cell_type": "markdown",
   "metadata": {},
   "source": [
    "Симметричное среднее абсолютное процентное отклонение не велико, поэтому можно сказать, что модель работает хорошо на кроссвалидации."
   ]
  },
  {
   "cell_type": "markdown",
   "metadata": {},
   "source": [
    "### Применение модели LinearRegression и проверка кросс-валидацией"
   ]
  },
  {
   "cell_type": "markdown",
   "metadata": {},
   "source": [
    "Для регрессии подготовим признаки с заполненными пропусками."
   ]
  },
  {
   "cell_type": "code",
   "execution_count": 26,
   "metadata": {},
   "outputs": [],
   "source": [
    "features_train_1_1.fillna( method ='ffill', inplace = True)\n",
    "features_train_2_1.fillna( method ='ffill', inplace = True)"
   ]
  },
  {
   "cell_type": "markdown",
   "metadata": {},
   "source": [
    "Далее этапы аналогичны блоку 3.2"
   ]
  },
  {
   "cell_type": "code",
   "execution_count": 27,
   "metadata": {},
   "outputs": [],
   "source": [
    "pd.options.mode.chained_assignment = None\n",
    "\n",
    "scaler_1_1 = StandardScaler()\n",
    "scaler_1_1.fit(features_train_1_1)\n",
    "features_train_1_1 = scaler_1_1.transform(features_train_1_1)\n",
    "\n",
    "scaler_2_1 = StandardScaler()\n",
    "scaler_2_1.fit(features_train_2_1)\n",
    "features_train_2_1 = scaler_2_1.transform(features_train_2_1)"
   ]
  },
  {
   "cell_type": "code",
   "execution_count": 28,
   "metadata": {},
   "outputs": [],
   "source": [
    "model_1_1 = LinearRegression()\n",
    "res_1_1 = cross_val_predict(model_1_1, features_train_1_1, target_train_1, cv=5)"
   ]
  },
  {
   "cell_type": "code",
   "execution_count": 29,
   "metadata": {},
   "outputs": [
    {
     "name": "stdout",
     "output_type": "stream",
     "text": [
      "sMAPE для эффективности чернового концентрата: 12.99653930705248\n"
     ]
    }
   ],
   "source": [
    "df_1_1=pd.DataFrame.from_dict({'Actual':list(target_train_1), 'Forecast':list(res_1_1)})\n",
    "\n",
    "smape_r_1 = (df_1_1.apply(mape, axis=1).sum() * (1/len(df_1_1))) * 100\n",
    "\n",
    "print ('sMAPE для эффективности чернового концентрата:',smape_r_1)"
   ]
  },
  {
   "cell_type": "code",
   "execution_count": 30,
   "metadata": {},
   "outputs": [],
   "source": [
    "model_2_1 = LinearRegression()\n",
    "res_2_1 = cross_val_predict(model_2_1, features_train_2_1, target_train_2, cv=5)"
   ]
  },
  {
   "cell_type": "code",
   "execution_count": 31,
   "metadata": {},
   "outputs": [
    {
     "name": "stdout",
     "output_type": "stream",
     "text": [
      "sMAPE для эффективности финального концентрата: 12.230730198532996\n"
     ]
    }
   ],
   "source": [
    "df_2_1=pd.DataFrame.from_dict({'Actual':list(target_train_2), 'Forecast':list(res_2_1)})\n",
    "\n",
    "smape_f_1 = (df_2_1.apply(mape, axis=1).sum() * (1/len(df_2_1))) * 100\n",
    "\n",
    "print ('sMAPE для эффективности финального концентрата:',smape_f_1)"
   ]
  },
  {
   "cell_type": "code",
   "execution_count": 32,
   "metadata": {},
   "outputs": [
    {
     "name": "stdout",
     "output_type": "stream",
     "text": [
      "Итоговое sMAPE для линейной регрессии: 12.422182475662867\n"
     ]
    }
   ],
   "source": [
    "print ('Итоговое sMAPE для линейной регрессии:',smape_r_1 * 0.25 + smape_f_1 * 0.75) "
   ]
  },
  {
   "cell_type": "markdown",
   "metadata": {},
   "source": [
    "Для линейной регрессии показатель чуть хуже, но все равно остается приемлемым."
   ]
  },
  {
   "cell_type": "markdown",
   "metadata": {},
   "source": [
    "### Проверим модель CatBoostRegressor на тестовой выборке"
   ]
  },
  {
   "cell_type": "markdown",
   "metadata": {},
   "source": [
    "В первую очередь обучим модель на тренировочных выборках."
   ]
  },
  {
   "cell_type": "code",
   "execution_count": 33,
   "metadata": {},
   "outputs": [
    {
     "name": "stdout",
     "output_type": "stream",
     "text": [
      "0:\tlearn: 14.8513187\ttotal: 12.3ms\tremaining: 12.3s\n",
      "100:\tlearn: 12.6733227\ttotal: 5.71s\tremaining: 50.8s\n",
      "200:\tlearn: 11.8427781\ttotal: 10.1s\tremaining: 40s\n",
      "300:\tlearn: 11.3100145\ttotal: 14.5s\tremaining: 33.7s\n",
      "400:\tlearn: 10.9587593\ttotal: 18.8s\tremaining: 28s\n",
      "500:\tlearn: 10.6502237\ttotal: 23.3s\tremaining: 23.2s\n",
      "600:\tlearn: 10.4188409\ttotal: 27.6s\tremaining: 18.3s\n",
      "700:\tlearn: 10.2082625\ttotal: 33.8s\tremaining: 14.4s\n",
      "800:\tlearn: 10.0248427\ttotal: 41.6s\tremaining: 10.3s\n",
      "900:\tlearn: 9.8591202\ttotal: 48.2s\tremaining: 5.29s\n",
      "999:\tlearn: 9.7037597\ttotal: 54.2s\tremaining: 0us\n",
      "0:\tlearn: 10.3625657\ttotal: 109ms\tremaining: 1m 48s\n",
      "100:\tlearn: 8.7290810\ttotal: 8.84s\tremaining: 1m 18s\n",
      "200:\tlearn: 8.1477536\ttotal: 15.9s\tremaining: 1m 3s\n",
      "300:\tlearn: 7.8429160\ttotal: 24.3s\tremaining: 56.5s\n",
      "400:\tlearn: 7.6301464\ttotal: 31.3s\tremaining: 46.7s\n",
      "500:\tlearn: 7.4689158\ttotal: 37.9s\tremaining: 37.8s\n",
      "600:\tlearn: 7.3284163\ttotal: 44.7s\tremaining: 29.7s\n",
      "700:\tlearn: 7.2017282\ttotal: 52.2s\tremaining: 22.3s\n",
      "800:\tlearn: 7.0842864\ttotal: 59.4s\tremaining: 14.8s\n",
      "900:\tlearn: 6.9772320\ttotal: 1m 6s\tremaining: 7.29s\n",
      "999:\tlearn: 6.8747551\ttotal: 1m 13s\tremaining: 0us\n"
     ]
    },
    {
     "data": {
      "text/plain": [
       "<catboost.core.CatBoostRegressor at 0x7f8b3a9456d0>"
      ]
     },
     "execution_count": 33,
     "metadata": {},
     "output_type": "execute_result"
    }
   ],
   "source": [
    "model_best_1 = CatBoostRegressor(learning_rate=0.01,verbose=100,early_stopping_rounds=200)\n",
    "model_best_1.fit(features_train_1, target_train_1)\n",
    "model_best_2 = CatBoostRegressor(learning_rate=0.01,verbose=100,early_stopping_rounds=200)\n",
    "model_best_2.fit(features_train_2, target_train_2)"
   ]
  },
  {
   "cell_type": "markdown",
   "metadata": {},
   "source": [
    "Предскажем значения на тестовой выборке."
   ]
  },
  {
   "cell_type": "code",
   "execution_count": 34,
   "metadata": {},
   "outputs": [],
   "source": [
    "model_best_test_res_1 = model_best_1.predict(features_test_1)\n",
    "model_best_test_res_2 = model_best_2.predict(features_test_2)"
   ]
  },
  {
   "cell_type": "markdown",
   "metadata": {},
   "source": [
    "Посчитаем итоговый sMAPE для тестовой выборки."
   ]
  },
  {
   "cell_type": "code",
   "execution_count": 35,
   "metadata": {},
   "outputs": [
    {
     "name": "stdout",
     "output_type": "stream",
     "text": [
      "sMAPE для эффективности обогащения чернового концентрата: 7.863632514792052\n"
     ]
    }
   ],
   "source": [
    "df_best_1=pd.DataFrame.from_dict({'Actual':list(target_test_1), 'Forecast':list(model_best_test_res_1)})\n",
    "smape_test_r = (df_best_1.apply(mape, axis=1).sum() * (1/len(df_best_1))) * 100\n",
    "print ('sMAPE для эффективности обогащения чернового концентрата:',smape_test_r)"
   ]
  },
  {
   "cell_type": "code",
   "execution_count": 36,
   "metadata": {},
   "outputs": [
    {
     "name": "stdout",
     "output_type": "stream",
     "text": [
      "sMAPE для эффективности финального концентрата: 9.526045832644773\n"
     ]
    }
   ],
   "source": [
    "df_best_2=pd.DataFrame.from_dict({'Actual':list(target_test_2), 'Forecast':list(model_best_test_res_2)})\n",
    "smape_test_f = (df_best_2.apply(mape, axis=1).sum() * (1/len(df_best_2))) * 100\n",
    "print ('sMAPE для эффективности финального концентрата:',smape_test_f)"
   ]
  },
  {
   "cell_type": "code",
   "execution_count": 37,
   "metadata": {},
   "outputs": [
    {
     "name": "stdout",
     "output_type": "stream",
     "text": [
      "Итоговое sMAPE на тестовой выборке: 9.110442503181591\n"
     ]
    }
   ],
   "source": [
    "print ('Итоговое sMAPE на тестовой выборке:',smape_test_r * 0.25 + smape_test_f * 0.75) "
   ]
  },
  {
   "cell_type": "markdown",
   "metadata": {},
   "source": [
    "На тестовой выборке модель CatBoostRegressor показала достаточно хороший результат."
   ]
  },
  {
   "cell_type": "markdown",
   "metadata": {},
   "source": [
    " <a id='5'></a>\n",
    "## Сравнение лучшей модели с константным предсказанием"
   ]
  },
  {
   "cell_type": "markdown",
   "metadata": {},
   "source": [
    "В качестве константного предсказания будем брать медианное значение таргета. Проверять будем на обучающей выборке."
   ]
  },
  {
   "cell_type": "raw",
   "metadata": {},
   "source": [
    "ser_1 = pd.Series(data=target_train_1.median(), index=target_train_1.index) \n",
    "ser_2 = pd.Series(data=target_train_2.median(), index=target_train_2.index) "
   ]
  },
  {
   "cell_type": "code",
   "execution_count": 51,
   "metadata": {},
   "outputs": [
    {
     "name": "stdout",
     "output_type": "stream",
     "text": [
      "sMAPE для эффективности чернового концентрата: 11.680077060520514\n"
     ]
    }
   ],
   "source": [
    "df_ch_1=pd.DataFrame.from_dict({'Actual':list(target_train_1), 'Forecast':list(ser_1)})\n",
    "\n",
    "smape_rr = (df_ch_1.apply(mape, axis=1).sum() * (1/len(df_ch_1))) * 100\n",
    "\n",
    "print ('sMAPE для эффективности чернового концентрата:',smape_rr)"
   ]
  },
  {
   "cell_type": "code",
   "execution_count": 52,
   "metadata": {},
   "outputs": [
    {
     "name": "stdout",
     "output_type": "stream",
     "text": [
      "sMAPE для эффективности финального концентрата: 11.112325869745069\n"
     ]
    }
   ],
   "source": [
    "df_ch_2=pd.DataFrame.from_dict({'Actual':list(target_train_2), 'Forecast':list(ser_2)})\n",
    "\n",
    "smape_ff = (df_ch_2.apply(mape, axis=1).sum() * (1/len(df_ch_2))) * 100\n",
    "\n",
    "print ('sMAPE для эффективности финального концентрата:',smape_ff)"
   ]
  },
  {
   "cell_type": "code",
   "execution_count": 54,
   "metadata": {},
   "outputs": [
    {
     "name": "stdout",
     "output_type": "stream",
     "text": [
      "Итоговое sMAPE на обучающей выборке для константной модели: 11.25426366743893\n"
     ]
    }
   ],
   "source": [
    "print ('Итоговое sMAPE на обучающей выборке для константной модели:',smape_rr * 0.25 + smape_ff * 0.75) "
   ]
  },
  {
   "cell_type": "markdown",
   "metadata": {},
   "source": [
    "По результатам можно сказать, что модель CatboostRegressor показала лучший результат, нежели чем константная медианная модель (11.25 против 10.61). Следовательно модель CatboostRegressor вменяема."
   ]
  },
  {
   "cell_type": "markdown",
   "metadata": {},
   "source": [
    " <a id='4'></a>\n",
    "## Итоговые выводы"
   ]
  },
  {
   "cell_type": "markdown",
   "metadata": {},
   "source": [
    "На вход было получено три надобра данных с признаками по процессу добычи золота из руды: обучающи, тестовый и полный. Тестовая выборка имела не весь перечень признаков из обучающего набора, поэтому для обучения модели использовались только признаки, которые присутствуют в обоих датасетах.\n",
    "\n",
    "В проекте использовалась классическая модель Линейной регрессии с учетом заполнения пропусков и модель CatBoostRegressor без заполнения пропусков. На обучающей выборке качество моделей определялось с помощью кросс валидации. Результаты в таблице.\n",
    "\n",
    "| Модель | Итоговый sMAPE |\n",
    "| --- | --- |\n",
    "| CatBoostRegressor | 10.61 |\n",
    "| Линейная регрессия | 12.42 |\n",
    "\n",
    "На основе этих результатов было принято решение использовать модель CatBoostRegressor для тестового набора. Для проверки тестовой модели были подтянуты таргеты из полного набора данных. Итоговый sMAPE составил 9.11.\n",
    "Показатель sMAPE характеризует cимметричную среднюю абсолютную процентную ошибку. Ошибка в 9 процентов говорит о достаточно хорошей предсказательной способности модели.\n",
    "\n",
    "Для того, чтобы принять решение какую модель использовть на продуктиве необходимо взвесить все за и против каждой из предложенных моделей.\n",
    "\n",
    "Плюсы и минусы CatBoostRegressor:\n",
    "- (+) нет необходимости заполнять пропуски\n",
    "- (+) итоговый sMAPE лучше Линейной регрессии\n",
    "- (-) длительное обучение модели\n",
    "\n",
    "Плюсы и минусы Линейной регрессии:\n",
    "- (+) быстрое обучение\n",
    "- (-) необходимо заполнить пропуски\n",
    "- (-) итоговый sMAPE незначительно хуже CatBoostRegressor"
   ]
  }
 ],
 "metadata": {
  "ExecuteTimeLog": [
   {
    "duration": 641,
    "start_time": "2021-06-21T05:13:14.837Z"
   },
   {
    "duration": 1367,
    "start_time": "2021-06-21T05:13:20.819Z"
   },
   {
    "duration": 1764,
    "start_time": "2021-06-21T05:13:23.554Z"
   },
   {
    "duration": 25,
    "start_time": "2021-06-21T05:13:55.118Z"
   },
   {
    "duration": 461,
    "start_time": "2021-06-21T05:26:33.343Z"
   },
   {
    "duration": 1361,
    "start_time": "2021-06-21T05:54:19.356Z"
   },
   {
    "duration": 2677,
    "start_time": "2021-06-21T05:57:21.559Z"
   },
   {
    "duration": 7,
    "start_time": "2021-06-21T05:57:25.388Z"
   },
   {
    "duration": 4194,
    "start_time": "2021-06-21T05:57:27.732Z"
   },
   {
    "duration": 426,
    "start_time": "2021-06-21T05:57:31.929Z"
   },
   {
    "duration": 15,
    "start_time": "2021-06-21T06:01:55.029Z"
   },
   {
    "duration": 100,
    "start_time": "2021-06-21T06:02:46.261Z"
   },
   {
    "duration": 24,
    "start_time": "2021-06-21T06:03:01.112Z"
   },
   {
    "duration": 5,
    "start_time": "2021-06-21T06:09:35.758Z"
   },
   {
    "duration": 97,
    "start_time": "2021-06-21T06:11:19.053Z"
   },
   {
    "duration": 403,
    "start_time": "2021-06-21T06:11:24.574Z"
   },
   {
    "duration": 7,
    "start_time": "2021-06-21T06:17:07.549Z"
   },
   {
    "duration": 39,
    "start_time": "2021-06-21T06:17:32.157Z"
   },
   {
    "duration": 10,
    "start_time": "2021-06-21T06:18:09.402Z"
   },
   {
    "duration": 316,
    "start_time": "2021-06-21T06:21:17.512Z"
   },
   {
    "duration": 42,
    "start_time": "2021-06-21T06:24:25.836Z"
   },
   {
    "duration": 10,
    "start_time": "2021-06-21T06:24:32.954Z"
   },
   {
    "duration": 8,
    "start_time": "2021-06-21T06:27:37.401Z"
   },
   {
    "duration": 773,
    "start_time": "2021-06-21T06:27:43.330Z"
   },
   {
    "duration": 425,
    "start_time": "2021-06-21T06:28:00.246Z"
   },
   {
    "duration": 383,
    "start_time": "2021-06-21T06:28:05.203Z"
   },
   {
    "duration": 8,
    "start_time": "2021-06-21T06:29:13.678Z"
   },
   {
    "duration": 14,
    "start_time": "2021-06-21T06:29:22.457Z"
   },
   {
    "duration": 13,
    "start_time": "2021-06-21T06:30:59.476Z"
   },
   {
    "duration": 16,
    "start_time": "2021-06-21T06:34:13.945Z"
   },
   {
    "duration": 417,
    "start_time": "2021-06-21T06:34:59.609Z"
   },
   {
    "duration": 20,
    "start_time": "2021-06-21T06:36:45.128Z"
   },
   {
    "duration": 21,
    "start_time": "2021-06-21T06:37:25.333Z"
   },
   {
    "duration": 317,
    "start_time": "2021-06-21T06:38:00.335Z"
   },
   {
    "duration": 102,
    "start_time": "2021-06-21T06:38:05.918Z"
   },
   {
    "duration": 24,
    "start_time": "2021-06-21T06:38:17.017Z"
   },
   {
    "duration": 23,
    "start_time": "2021-06-21T06:38:22.812Z"
   },
   {
    "duration": 109,
    "start_time": "2021-06-21T09:07:32.352Z"
   },
   {
    "duration": 383,
    "start_time": "2021-06-21T09:31:04.052Z"
   },
   {
    "duration": 5,
    "start_time": "2021-06-21T09:31:08.336Z"
   },
   {
    "duration": 3179,
    "start_time": "2021-06-21T09:31:09.646Z"
   },
   {
    "duration": 42,
    "start_time": "2021-06-21T09:31:14.358Z"
   },
   {
    "duration": 4,
    "start_time": "2021-06-21T09:32:39.722Z"
   },
   {
    "duration": 831,
    "start_time": "2021-06-21T09:43:26.879Z"
   },
   {
    "duration": 24,
    "start_time": "2021-06-21T09:48:45.581Z"
   },
   {
    "duration": 33,
    "start_time": "2021-06-21T09:52:56.639Z"
   },
   {
    "duration": 7931,
    "start_time": "2021-06-21T09:53:03.735Z"
   },
   {
    "duration": 21,
    "start_time": "2021-06-21T09:53:23.057Z"
   },
   {
    "duration": 21,
    "start_time": "2021-06-21T09:53:42.200Z"
   },
   {
    "duration": 6,
    "start_time": "2021-06-21T11:14:57.555Z"
   },
   {
    "duration": 378,
    "start_time": "2021-06-21T11:15:22.263Z"
   },
   {
    "duration": 6,
    "start_time": "2021-06-21T11:20:06.536Z"
   },
   {
    "duration": 1132,
    "start_time": "2021-06-21T11:20:22.674Z"
   },
   {
    "duration": 10,
    "start_time": "2021-06-21T11:20:30.221Z"
   },
   {
    "duration": 300,
    "start_time": "2021-06-21T11:27:28.541Z"
   },
   {
    "duration": 309,
    "start_time": "2021-06-21T11:28:49.664Z"
   },
   {
    "duration": 7,
    "start_time": "2021-06-21T11:29:14.658Z"
   },
   {
    "duration": 25,
    "start_time": "2021-06-21T11:45:17.169Z"
   },
   {
    "duration": 20,
    "start_time": "2021-06-21T11:48:10.018Z"
   },
   {
    "duration": 1474,
    "start_time": "2021-06-22T09:42:05.562Z"
   },
   {
    "duration": 2680,
    "start_time": "2021-06-22T09:42:07.038Z"
   },
   {
    "duration": 50,
    "start_time": "2021-06-22T09:42:09.722Z"
   },
   {
    "duration": 546,
    "start_time": "2021-06-22T09:42:09.775Z"
   },
   {
    "duration": -4405,
    "start_time": "2021-06-22T09:42:14.729Z"
   },
   {
    "duration": -4428,
    "start_time": "2021-06-22T09:42:14.754Z"
   },
   {
    "duration": -4438,
    "start_time": "2021-06-22T09:42:14.766Z"
   },
   {
    "duration": 314,
    "start_time": "2021-06-22T09:43:08.485Z"
   },
   {
    "duration": 4,
    "start_time": "2021-06-22T09:43:21.690Z"
   },
   {
    "duration": 1875,
    "start_time": "2021-06-22T09:43:21.697Z"
   },
   {
    "duration": 35,
    "start_time": "2021-06-22T09:43:23.576Z"
   },
   {
    "duration": 342,
    "start_time": "2021-06-22T09:43:23.614Z"
   },
   {
    "duration": -4388,
    "start_time": "2021-06-22T09:43:28.347Z"
   },
   {
    "duration": -4390,
    "start_time": "2021-06-22T09:43:28.350Z"
   },
   {
    "duration": -4400,
    "start_time": "2021-06-22T09:43:28.362Z"
   },
   {
    "duration": 4,
    "start_time": "2021-06-22T09:44:54.313Z"
   },
   {
    "duration": 2180,
    "start_time": "2021-06-22T09:44:54.320Z"
   },
   {
    "duration": 60,
    "start_time": "2021-06-22T09:44:56.504Z"
   },
   {
    "duration": 42,
    "start_time": "2021-06-22T09:44:56.568Z"
   },
   {
    "duration": 355,
    "start_time": "2021-06-22T09:44:56.613Z"
   },
   {
    "duration": -4460,
    "start_time": "2021-06-22T09:45:01.431Z"
   },
   {
    "duration": -4463,
    "start_time": "2021-06-22T09:45:01.436Z"
   },
   {
    "duration": 354,
    "start_time": "2021-06-22T09:45:46.548Z"
   },
   {
    "duration": 22,
    "start_time": "2021-06-22T09:46:18.424Z"
   },
   {
    "duration": 8,
    "start_time": "2021-06-22T09:46:22.183Z"
   },
   {
    "duration": 17,
    "start_time": "2021-06-22T09:46:25.385Z"
   },
   {
    "duration": 6,
    "start_time": "2021-06-22T10:29:05.644Z"
   },
   {
    "duration": 7,
    "start_time": "2021-06-22T10:29:17.856Z"
   },
   {
    "duration": 52,
    "start_time": "2021-06-22T10:42:17.115Z"
   },
   {
    "duration": 16,
    "start_time": "2021-06-22T10:42:26.575Z"
   },
   {
    "duration": 6,
    "start_time": "2021-06-22T10:42:34.774Z"
   },
   {
    "duration": 99,
    "start_time": "2021-06-22T10:42:56.971Z"
   },
   {
    "duration": 11,
    "start_time": "2021-06-22T10:43:00.965Z"
   },
   {
    "duration": 16,
    "start_time": "2021-06-22T12:00:26.910Z"
   },
   {
    "duration": 16,
    "start_time": "2021-06-22T12:01:21.336Z"
   },
   {
    "duration": 19,
    "start_time": "2021-06-22T12:01:50.669Z"
   },
   {
    "duration": 324,
    "start_time": "2021-06-23T05:22:35.736Z"
   },
   {
    "duration": 1409,
    "start_time": "2021-06-23T05:22:41.549Z"
   },
   {
    "duration": 2710,
    "start_time": "2021-06-23T05:22:42.961Z"
   },
   {
    "duration": 36,
    "start_time": "2021-06-23T05:22:45.674Z"
   },
   {
    "duration": 38,
    "start_time": "2021-06-23T05:22:45.725Z"
   },
   {
    "duration": 24,
    "start_time": "2021-06-23T05:22:45.765Z"
   },
   {
    "duration": 6,
    "start_time": "2021-06-23T05:22:45.791Z"
   },
   {
    "duration": 23,
    "start_time": "2021-06-23T05:22:45.825Z"
   },
   {
    "duration": 16,
    "start_time": "2021-06-23T05:22:45.852Z"
   },
   {
    "duration": 922,
    "start_time": "2021-06-23T05:22:45.871Z"
   },
   {
    "duration": -4649,
    "start_time": "2021-06-23T05:22:51.445Z"
   },
   {
    "duration": -4653,
    "start_time": "2021-06-23T05:22:51.450Z"
   },
   {
    "duration": -4669,
    "start_time": "2021-06-23T05:22:51.467Z"
   },
   {
    "duration": -4681,
    "start_time": "2021-06-23T05:22:51.481Z"
   },
   {
    "duration": -4694,
    "start_time": "2021-06-23T05:22:51.496Z"
   },
   {
    "duration": 9,
    "start_time": "2021-06-23T05:22:59.563Z"
   },
   {
    "duration": 7,
    "start_time": "2021-06-23T05:23:12.690Z"
   },
   {
    "duration": 8,
    "start_time": "2021-06-23T05:23:14.278Z"
   },
   {
    "duration": 8,
    "start_time": "2021-06-23T05:24:20.981Z"
   },
   {
    "duration": 8,
    "start_time": "2021-06-23T05:24:40.576Z"
   },
   {
    "duration": 8,
    "start_time": "2021-06-23T05:34:05.836Z"
   },
   {
    "duration": 8,
    "start_time": "2021-06-23T05:34:09.051Z"
   },
   {
    "duration": 8,
    "start_time": "2021-06-23T05:34:11.689Z"
   },
   {
    "duration": 9,
    "start_time": "2021-06-23T05:37:52.303Z"
   },
   {
    "duration": 8,
    "start_time": "2021-06-23T05:37:54.504Z"
   },
   {
    "duration": 8,
    "start_time": "2021-06-23T05:37:56.087Z"
   },
   {
    "duration": 1028,
    "start_time": "2021-06-23T06:02:36.566Z"
   },
   {
    "duration": 340,
    "start_time": "2021-06-23T06:02:49.092Z"
   },
   {
    "duration": 575,
    "start_time": "2021-06-23T06:03:01.597Z"
   },
   {
    "duration": 701,
    "start_time": "2021-06-23T06:03:36.209Z"
   },
   {
    "duration": 737,
    "start_time": "2021-06-23T06:03:42.961Z"
   },
   {
    "duration": 764,
    "start_time": "2021-06-23T06:03:55.520Z"
   },
   {
    "duration": 801,
    "start_time": "2021-06-23T06:04:04.126Z"
   },
   {
    "duration": 1847,
    "start_time": "2021-06-23T06:05:24.081Z"
   },
   {
    "duration": 1708,
    "start_time": "2021-06-23T06:06:01.750Z"
   },
   {
    "duration": 1455,
    "start_time": "2021-06-23T06:06:34.149Z"
   },
   {
    "duration": 1224,
    "start_time": "2021-06-23T06:06:44.321Z"
   },
   {
    "duration": 485,
    "start_time": "2021-06-23T06:38:31.791Z"
   },
   {
    "duration": 6779,
    "start_time": "2021-06-23T07:47:27.226Z"
   },
   {
    "duration": 8,
    "start_time": "2021-06-23T07:48:01.526Z"
   },
   {
    "duration": 4,
    "start_time": "2021-06-23T08:19:36.221Z"
   },
   {
    "duration": 2410,
    "start_time": "2021-06-23T08:19:36.232Z"
   },
   {
    "duration": 37,
    "start_time": "2021-06-23T08:19:38.645Z"
   },
   {
    "duration": 45,
    "start_time": "2021-06-23T08:19:38.686Z"
   },
   {
    "duration": 21,
    "start_time": "2021-06-23T08:19:38.734Z"
   },
   {
    "duration": 6,
    "start_time": "2021-06-23T08:19:38.757Z"
   },
   {
    "duration": 23,
    "start_time": "2021-06-23T08:19:38.765Z"
   },
   {
    "duration": 8,
    "start_time": "2021-06-23T08:19:38.823Z"
   },
   {
    "duration": 8,
    "start_time": "2021-06-23T08:19:38.834Z"
   },
   {
    "duration": 8,
    "start_time": "2021-06-23T08:19:38.844Z"
   },
   {
    "duration": 1252,
    "start_time": "2021-06-23T08:19:38.854Z"
   },
   {
    "duration": 8328,
    "start_time": "2021-06-23T08:19:44.424Z"
   },
   {
    "duration": 14,
    "start_time": "2021-06-23T08:51:33.185Z"
   },
   {
    "duration": 1409,
    "start_time": "2021-06-23T08:51:59.180Z"
   },
   {
    "duration": 1402,
    "start_time": "2021-06-23T09:38:11.131Z"
   },
   {
    "duration": 3349,
    "start_time": "2021-06-23T09:43:56.196Z"
   },
   {
    "duration": 1410,
    "start_time": "2021-06-23T09:44:12.651Z"
   },
   {
    "duration": 322,
    "start_time": "2021-06-23T09:45:52.528Z"
   },
   {
    "duration": 48,
    "start_time": "2021-06-23T09:46:43.501Z"
   },
   {
    "duration": 1487,
    "start_time": "2021-06-23T13:10:46.843Z"
   },
   {
    "duration": 1079,
    "start_time": "2021-06-23T13:10:48.333Z"
   },
   {
    "duration": 38,
    "start_time": "2021-06-23T13:10:49.415Z"
   },
   {
    "duration": 58,
    "start_time": "2021-06-23T13:10:49.457Z"
   },
   {
    "duration": 23,
    "start_time": "2021-06-23T13:10:49.518Z"
   },
   {
    "duration": 6,
    "start_time": "2021-06-23T13:10:49.543Z"
   },
   {
    "duration": 52,
    "start_time": "2021-06-23T13:10:49.552Z"
   },
   {
    "duration": 8,
    "start_time": "2021-06-23T13:10:49.608Z"
   },
   {
    "duration": 10,
    "start_time": "2021-06-23T13:10:49.618Z"
   },
   {
    "duration": 8,
    "start_time": "2021-06-23T13:10:49.631Z"
   },
   {
    "duration": 1148,
    "start_time": "2021-06-23T13:10:49.641Z"
   },
   {
    "duration": 15,
    "start_time": "2021-06-23T13:10:50.793Z"
   },
   {
    "duration": 1685,
    "start_time": "2021-06-23T13:10:50.812Z"
   },
   {
    "duration": 27,
    "start_time": "2021-06-23T13:11:00.872Z"
   },
   {
    "duration": 581,
    "start_time": "2021-06-23T13:11:04.441Z"
   },
   {
    "duration": 18,
    "start_time": "2021-06-23T13:11:40.023Z"
   },
   {
    "duration": 4085,
    "start_time": "2021-06-23T13:11:52.525Z"
   },
   {
    "duration": 20,
    "start_time": "2021-06-23T13:12:26.815Z"
   },
   {
    "duration": 42,
    "start_time": "2021-06-23T13:12:33.682Z"
   },
   {
    "duration": 4,
    "start_time": "2021-06-23T13:13:12.260Z"
   },
   {
    "duration": 1030,
    "start_time": "2021-06-23T13:13:12.271Z"
   },
   {
    "duration": 43,
    "start_time": "2021-06-23T13:13:13.304Z"
   },
   {
    "duration": 45,
    "start_time": "2021-06-23T13:13:13.350Z"
   },
   {
    "duration": 29,
    "start_time": "2021-06-23T13:13:13.399Z"
   },
   {
    "duration": 6,
    "start_time": "2021-06-23T13:13:13.431Z"
   },
   {
    "duration": 60,
    "start_time": "2021-06-23T13:13:13.440Z"
   },
   {
    "duration": 9,
    "start_time": "2021-06-23T13:13:13.503Z"
   },
   {
    "duration": 10,
    "start_time": "2021-06-23T13:13:13.516Z"
   },
   {
    "duration": 9,
    "start_time": "2021-06-23T13:13:13.529Z"
   },
   {
    "duration": 1138,
    "start_time": "2021-06-23T13:13:13.582Z"
   },
   {
    "duration": 14,
    "start_time": "2021-06-23T13:13:14.722Z"
   },
   {
    "duration": 1491,
    "start_time": "2021-06-23T13:13:14.738Z"
   },
   {
    "duration": 23,
    "start_time": "2021-06-23T13:13:21.484Z"
   },
   {
    "duration": 748,
    "start_time": "2021-06-23T13:13:23.315Z"
   },
   {
    "duration": 550,
    "start_time": "2021-06-23T13:13:47.609Z"
   },
   {
    "duration": 863,
    "start_time": "2021-06-23T13:13:53.494Z"
   },
   {
    "duration": 13,
    "start_time": "2021-06-23T13:15:27.602Z"
   },
   {
    "duration": 705,
    "start_time": "2021-06-23T13:15:29.574Z"
   },
   {
    "duration": 4,
    "start_time": "2021-06-23T13:18:00.312Z"
   },
   {
    "duration": 1051,
    "start_time": "2021-06-23T13:18:00.321Z"
   },
   {
    "duration": 41,
    "start_time": "2021-06-23T13:18:01.375Z"
   },
   {
    "duration": 26,
    "start_time": "2021-06-23T13:18:01.421Z"
   },
   {
    "duration": 56,
    "start_time": "2021-06-23T13:18:01.450Z"
   },
   {
    "duration": 6,
    "start_time": "2021-06-23T13:18:01.508Z"
   },
   {
    "duration": 52,
    "start_time": "2021-06-23T13:18:01.516Z"
   },
   {
    "duration": 31,
    "start_time": "2021-06-23T13:18:01.571Z"
   },
   {
    "duration": 33,
    "start_time": "2021-06-23T13:18:01.605Z"
   },
   {
    "duration": 47,
    "start_time": "2021-06-23T13:18:01.641Z"
   },
   {
    "duration": 1352,
    "start_time": "2021-06-23T13:18:01.691Z"
   },
   {
    "duration": 16,
    "start_time": "2021-06-23T13:18:03.045Z"
   },
   {
    "duration": 1498,
    "start_time": "2021-06-23T13:18:03.063Z"
   },
   {
    "duration": 21,
    "start_time": "2021-06-23T13:18:13.641Z"
   },
   {
    "duration": 1292,
    "start_time": "2021-06-23T13:18:20.625Z"
   },
   {
    "duration": 14,
    "start_time": "2021-06-23T13:18:26.362Z"
   },
   {
    "duration": 1297,
    "start_time": "2021-06-23T13:18:27.571Z"
   },
   {
    "duration": 9285,
    "start_time": "2021-06-23T13:18:39.353Z"
   },
   {
    "duration": 565,
    "start_time": "2021-06-23T13:19:11.511Z"
   },
   {
    "duration": 14,
    "start_time": "2021-06-23T13:19:22.569Z"
   },
   {
    "duration": 973,
    "start_time": "2021-06-23T13:19:24.398Z"
   },
   {
    "duration": 12,
    "start_time": "2021-06-23T13:19:42.620Z"
   },
   {
    "duration": 1040,
    "start_time": "2021-06-23T13:19:44.381Z"
   },
   {
    "duration": 570,
    "start_time": "2021-06-23T13:20:12.999Z"
   },
   {
    "duration": 113,
    "start_time": "2021-06-24T05:16:31.106Z"
   },
   {
    "duration": 84,
    "start_time": "2021-06-24T05:16:58.103Z"
   },
   {
    "duration": 92,
    "start_time": "2021-06-24T05:17:00.032Z"
   },
   {
    "duration": 98,
    "start_time": "2021-06-24T06:14:06.664Z"
   },
   {
    "duration": 163,
    "start_time": "2021-06-24T06:31:14.830Z"
   },
   {
    "duration": 322,
    "start_time": "2021-06-24T06:46:14.556Z"
   },
   {
    "duration": 1421,
    "start_time": "2021-06-24T06:46:23.184Z"
   },
   {
    "duration": 1328,
    "start_time": "2021-06-24T06:46:24.607Z"
   },
   {
    "duration": 48,
    "start_time": "2021-06-24T06:46:25.939Z"
   },
   {
    "duration": 41,
    "start_time": "2021-06-24T06:46:25.990Z"
   },
   {
    "duration": 24,
    "start_time": "2021-06-24T06:46:26.033Z"
   },
   {
    "duration": 26,
    "start_time": "2021-06-24T06:46:26.060Z"
   },
   {
    "duration": 23,
    "start_time": "2021-06-24T06:46:26.089Z"
   },
   {
    "duration": 7,
    "start_time": "2021-06-24T06:46:26.116Z"
   },
   {
    "duration": 8,
    "start_time": "2021-06-24T06:46:26.126Z"
   },
   {
    "duration": 48,
    "start_time": "2021-06-24T06:46:26.136Z"
   },
   {
    "duration": 1151,
    "start_time": "2021-06-24T06:46:26.186Z"
   },
   {
    "duration": 13,
    "start_time": "2021-06-24T06:46:27.339Z"
   },
   {
    "duration": 1392,
    "start_time": "2021-06-24T06:46:27.355Z"
   },
   {
    "duration": 34,
    "start_time": "2021-06-24T06:46:28.749Z"
   },
   {
    "duration": 564,
    "start_time": "2021-06-24T06:46:28.785Z"
   },
   {
    "duration": 353,
    "start_time": "2021-06-24T06:46:33.678Z"
   },
   {
    "duration": 9,
    "start_time": "2021-06-24T06:46:48.707Z"
   },
   {
    "duration": 102,
    "start_time": "2021-06-24T06:47:10.631Z"
   },
   {
    "duration": 90,
    "start_time": "2021-06-24T06:47:14.572Z"
   },
   {
    "duration": 89,
    "start_time": "2021-06-24T06:47:33.754Z"
   },
   {
    "duration": 5,
    "start_time": "2021-06-24T06:47:40.145Z"
   },
   {
    "duration": 14,
    "start_time": "2021-06-24T06:47:46.940Z"
   },
   {
    "duration": 13,
    "start_time": "2021-06-24T06:51:22.578Z"
   },
   {
    "duration": 6,
    "start_time": "2021-06-24T06:51:28.674Z"
   },
   {
    "duration": 10,
    "start_time": "2021-06-24T06:52:34.487Z"
   },
   {
    "duration": 10,
    "start_time": "2021-06-24T06:52:38.018Z"
   },
   {
    "duration": 7,
    "start_time": "2021-06-24T06:53:57.235Z"
   },
   {
    "duration": 7,
    "start_time": "2021-06-24T06:54:25.677Z"
   },
   {
    "duration": 8,
    "start_time": "2021-06-24T06:55:09.257Z"
   },
   {
    "duration": 47,
    "start_time": "2021-06-24T06:57:17.766Z"
   },
   {
    "duration": 18,
    "start_time": "2021-06-24T06:57:27.269Z"
   },
   {
    "duration": 46,
    "start_time": "2021-06-24T06:57:39.651Z"
   },
   {
    "duration": 20,
    "start_time": "2021-06-24T06:58:02.450Z"
   },
   {
    "duration": 117,
    "start_time": "2021-06-24T07:00:33.514Z"
   },
   {
    "duration": 14,
    "start_time": "2021-06-24T07:32:18.742Z"
   },
   {
    "duration": 14,
    "start_time": "2021-06-24T07:32:24.052Z"
   },
   {
    "duration": 5,
    "start_time": "2021-06-24T07:33:17.982Z"
   },
   {
    "duration": 4,
    "start_time": "2021-06-24T07:33:21.195Z"
   },
   {
    "duration": 16,
    "start_time": "2021-06-24T07:37:11.633Z"
   },
   {
    "duration": 17,
    "start_time": "2021-06-24T07:37:16.487Z"
   },
   {
    "duration": 292,
    "start_time": "2021-06-24T07:38:49.008Z"
   },
   {
    "duration": 15,
    "start_time": "2021-06-24T07:39:04.992Z"
   },
   {
    "duration": 13,
    "start_time": "2021-06-24T07:39:07.674Z"
   },
   {
    "duration": 7,
    "start_time": "2021-06-24T07:39:25.830Z"
   },
   {
    "duration": 6,
    "start_time": "2021-06-24T07:40:00.068Z"
   },
   {
    "duration": 34,
    "start_time": "2021-06-24T07:50:06.103Z"
   },
   {
    "duration": 307,
    "start_time": "2021-06-24T08:00:55.624Z"
   },
   {
    "duration": 64,
    "start_time": "2021-06-24T08:19:02.821Z"
   },
   {
    "duration": 4,
    "start_time": "2021-06-24T08:19:04.423Z"
   },
   {
    "duration": 4,
    "start_time": "2021-06-24T08:29:16.767Z"
   },
   {
    "duration": 3192,
    "start_time": "2021-06-24T08:30:33.686Z"
   },
   {
    "duration": 8,
    "start_time": "2021-06-24T08:31:56.942Z"
   },
   {
    "duration": 11,
    "start_time": "2021-06-24T08:32:08.062Z"
   },
   {
    "duration": 7,
    "start_time": "2021-06-24T08:47:04.681Z"
   },
   {
    "duration": 7,
    "start_time": "2021-06-24T08:47:12.833Z"
   },
   {
    "duration": 281,
    "start_time": "2021-06-24T08:47:21.414Z"
   },
   {
    "duration": 6,
    "start_time": "2021-06-24T08:48:44.089Z"
   },
   {
    "duration": 6,
    "start_time": "2021-06-24T08:48:46.735Z"
   },
   {
    "duration": 6,
    "start_time": "2021-06-24T08:48:53.926Z"
   },
   {
    "duration": 8,
    "start_time": "2021-06-24T08:49:00.926Z"
   },
   {
    "duration": 9,
    "start_time": "2021-06-24T08:49:22.004Z"
   },
   {
    "duration": 10,
    "start_time": "2021-06-24T08:49:29.252Z"
   },
   {
    "duration": 8,
    "start_time": "2021-06-24T08:49:44.115Z"
   },
   {
    "duration": 10,
    "start_time": "2021-06-24T08:49:49.053Z"
   },
   {
    "duration": 286,
    "start_time": "2021-06-24T09:23:57.402Z"
   },
   {
    "duration": 6,
    "start_time": "2021-06-24T09:24:28.252Z"
   },
   {
    "duration": 6,
    "start_time": "2021-06-24T09:25:36.615Z"
   },
   {
    "duration": 2010,
    "start_time": "2021-06-24T09:25:51.472Z"
   },
   {
    "duration": 17,
    "start_time": "2021-06-24T09:26:22.669Z"
   },
   {
    "duration": 20,
    "start_time": "2021-06-24T09:26:24.531Z"
   },
   {
    "duration": 17,
    "start_time": "2021-06-24T09:27:08.429Z"
   },
   {
    "duration": 17,
    "start_time": "2021-06-24T09:27:10.137Z"
   },
   {
    "duration": 17,
    "start_time": "2021-06-24T09:27:44.356Z"
   },
   {
    "duration": 17,
    "start_time": "2021-06-24T09:27:46.761Z"
   },
   {
    "duration": 36,
    "start_time": "2021-06-24T09:27:53.736Z"
   },
   {
    "duration": 37,
    "start_time": "2021-06-24T09:28:03.683Z"
   },
   {
    "duration": 31,
    "start_time": "2021-06-24T09:28:07.237Z"
   },
   {
    "duration": 5,
    "start_time": "2021-06-24T09:28:20.787Z"
   },
   {
    "duration": 284,
    "start_time": "2021-06-24T09:33:00.547Z"
   },
   {
    "duration": 6,
    "start_time": "2021-06-24T09:33:12.856Z"
   },
   {
    "duration": 18,
    "start_time": "2021-06-24T09:33:16.470Z"
   },
   {
    "duration": 37,
    "start_time": "2021-06-24T09:33:19.566Z"
   },
   {
    "duration": 129,
    "start_time": "2021-06-24T09:35:03.388Z"
   },
   {
    "duration": 27,
    "start_time": "2021-06-24T09:35:07.356Z"
   },
   {
    "duration": 6801,
    "start_time": "2021-06-24T09:35:14.410Z"
   },
   {
    "duration": 287,
    "start_time": "2021-06-24T09:35:26.476Z"
   },
   {
    "duration": 268,
    "start_time": "2021-06-24T09:35:35.515Z"
   },
   {
    "duration": 299,
    "start_time": "2021-06-24T09:35:39.066Z"
   },
   {
    "duration": 270,
    "start_time": "2021-06-24T09:35:55.885Z"
   },
   {
    "duration": 28,
    "start_time": "2021-06-24T09:36:05.006Z"
   },
   {
    "duration": 29,
    "start_time": "2021-06-24T09:36:09.891Z"
   },
   {
    "duration": 30,
    "start_time": "2021-06-24T09:37:38.797Z"
   },
   {
    "duration": 42,
    "start_time": "2021-06-24T09:37:49.913Z"
   },
   {
    "duration": 42,
    "start_time": "2021-06-24T09:37:51.572Z"
   },
   {
    "duration": 93,
    "start_time": "2021-06-24T09:38:41.403Z"
   },
   {
    "duration": 63,
    "start_time": "2021-06-24T09:38:45.652Z"
   },
   {
    "duration": 94,
    "start_time": "2021-06-24T09:41:43.622Z"
   },
   {
    "duration": 4,
    "start_time": "2021-06-24T09:43:05.718Z"
   },
   {
    "duration": 1151,
    "start_time": "2021-06-24T09:43:05.729Z"
   },
   {
    "duration": 36,
    "start_time": "2021-06-24T09:43:06.883Z"
   },
   {
    "duration": 27,
    "start_time": "2021-06-24T09:43:06.922Z"
   },
   {
    "duration": 48,
    "start_time": "2021-06-24T09:43:06.951Z"
   },
   {
    "duration": 6,
    "start_time": "2021-06-24T09:43:07.002Z"
   },
   {
    "duration": 26,
    "start_time": "2021-06-24T09:43:07.010Z"
   },
   {
    "duration": 8,
    "start_time": "2021-06-24T09:43:07.038Z"
   },
   {
    "duration": 40,
    "start_time": "2021-06-24T09:43:07.049Z"
   },
   {
    "duration": 8,
    "start_time": "2021-06-24T09:43:07.092Z"
   },
   {
    "duration": 1041,
    "start_time": "2021-06-24T09:43:07.103Z"
   },
   {
    "duration": 13,
    "start_time": "2021-06-24T09:43:08.147Z"
   },
   {
    "duration": 1545,
    "start_time": "2021-06-24T09:43:08.162Z"
   },
   {
    "duration": 23,
    "start_time": "2021-06-24T09:43:09.710Z"
   },
   {
    "duration": 618,
    "start_time": "2021-06-24T09:43:09.736Z"
   },
   {
    "duration": 18,
    "start_time": "2021-06-24T09:43:15.068Z"
   },
   {
    "duration": 20,
    "start_time": "2021-06-24T09:43:19.350Z"
   },
   {
    "duration": 35,
    "start_time": "2021-06-24T09:43:23.172Z"
   },
   {
    "duration": 301,
    "start_time": "2021-06-24T09:43:27.526Z"
   },
   {
    "duration": 295,
    "start_time": "2021-06-24T09:44:19.857Z"
   },
   {
    "duration": 5,
    "start_time": "2021-06-24T09:44:27.148Z"
   },
   {
    "duration": 289,
    "start_time": "2021-06-24T09:45:23.948Z"
   },
   {
    "duration": 4,
    "start_time": "2021-06-24T09:45:31.621Z"
   },
   {
    "duration": 1080,
    "start_time": "2021-06-24T09:45:31.632Z"
   },
   {
    "duration": 35,
    "start_time": "2021-06-24T09:45:32.714Z"
   },
   {
    "duration": 40,
    "start_time": "2021-06-24T09:45:32.752Z"
   },
   {
    "duration": 23,
    "start_time": "2021-06-24T09:45:32.794Z"
   },
   {
    "duration": 6,
    "start_time": "2021-06-24T09:45:32.820Z"
   },
   {
    "duration": 56,
    "start_time": "2021-06-24T09:45:32.828Z"
   },
   {
    "duration": 8,
    "start_time": "2021-06-24T09:45:32.887Z"
   },
   {
    "duration": 8,
    "start_time": "2021-06-24T09:45:32.898Z"
   },
   {
    "duration": 8,
    "start_time": "2021-06-24T09:45:32.909Z"
   },
   {
    "duration": 1063,
    "start_time": "2021-06-24T09:45:32.920Z"
   },
   {
    "duration": 14,
    "start_time": "2021-06-24T09:45:33.985Z"
   },
   {
    "duration": 1452,
    "start_time": "2021-06-24T09:45:34.001Z"
   },
   {
    "duration": 38,
    "start_time": "2021-06-24T09:45:35.456Z"
   },
   {
    "duration": 571,
    "start_time": "2021-06-24T09:45:35.497Z"
   },
   {
    "duration": 26,
    "start_time": "2021-06-24T09:45:36.070Z"
   },
   {
    "duration": 6,
    "start_time": "2021-06-24T09:45:39.834Z"
   },
   {
    "duration": 7,
    "start_time": "2021-06-24T09:46:02.987Z"
   },
   {
    "duration": 5,
    "start_time": "2021-06-24T09:47:31.417Z"
   },
   {
    "duration": 1510,
    "start_time": "2021-06-24T09:47:31.428Z"
   },
   {
    "duration": 42,
    "start_time": "2021-06-24T09:47:32.941Z"
   },
   {
    "duration": 25,
    "start_time": "2021-06-24T09:47:32.986Z"
   },
   {
    "duration": 21,
    "start_time": "2021-06-24T09:47:33.015Z"
   },
   {
    "duration": 7,
    "start_time": "2021-06-24T09:47:33.039Z"
   },
   {
    "duration": 24,
    "start_time": "2021-06-24T09:47:33.084Z"
   },
   {
    "duration": 8,
    "start_time": "2021-06-24T09:47:33.111Z"
   },
   {
    "duration": 8,
    "start_time": "2021-06-24T09:47:33.123Z"
   },
   {
    "duration": 54,
    "start_time": "2021-06-24T09:47:33.135Z"
   },
   {
    "duration": 1231,
    "start_time": "2021-06-24T09:47:33.192Z"
   },
   {
    "duration": 16,
    "start_time": "2021-06-24T09:47:34.426Z"
   },
   {
    "duration": 1347,
    "start_time": "2021-06-24T09:47:34.444Z"
   },
   {
    "duration": 21,
    "start_time": "2021-06-24T09:47:35.794Z"
   },
   {
    "duration": 681,
    "start_time": "2021-06-24T09:47:35.818Z"
   },
   {
    "duration": 22,
    "start_time": "2021-06-24T09:47:36.502Z"
   },
   {
    "duration": 20,
    "start_time": "2021-06-24T09:47:40.962Z"
   },
   {
    "duration": 36,
    "start_time": "2021-06-24T09:47:48.666Z"
   },
   {
    "duration": 230583,
    "start_time": "2021-06-24T09:47:50.764Z"
   },
   {
    "duration": 217785,
    "start_time": "2021-06-24T09:59:39.547Z"
   },
   {
    "duration": 6,
    "start_time": "2021-06-24T10:10:14.136Z"
   },
   {
    "duration": 7,
    "start_time": "2021-06-24T10:12:43.989Z"
   },
   {
    "duration": 5,
    "start_time": "2021-06-24T10:50:59.313Z"
   },
   {
    "duration": 224336,
    "start_time": "2021-06-24T10:52:55.181Z"
   },
   {
    "duration": 6,
    "start_time": "2021-06-24T10:56:57.692Z"
   },
   {
    "duration": 24,
    "start_time": "2021-06-24T10:58:47.488Z"
   },
   {
    "duration": 5,
    "start_time": "2021-06-24T10:59:19.780Z"
   },
   {
    "duration": 5,
    "start_time": "2021-06-24T10:59:53.956Z"
   },
   {
    "duration": 7,
    "start_time": "2021-06-24T11:03:52.960Z"
   },
   {
    "duration": 7,
    "start_time": "2021-06-24T11:04:50.759Z"
   },
   {
    "duration": 6,
    "start_time": "2021-06-24T11:05:05.052Z"
   },
   {
    "duration": 6,
    "start_time": "2021-06-24T11:07:03.225Z"
   },
   {
    "duration": 7,
    "start_time": "2021-06-24T11:07:21.073Z"
   },
   {
    "duration": 324,
    "start_time": "2021-06-24T11:10:19.081Z"
   },
   {
    "duration": 7,
    "start_time": "2021-06-24T11:10:25.288Z"
   },
   {
    "duration": 6,
    "start_time": "2021-06-24T11:10:37.628Z"
   },
   {
    "duration": 8,
    "start_time": "2021-06-24T11:11:10.399Z"
   },
   {
    "duration": 6,
    "start_time": "2021-06-24T11:11:21.139Z"
   },
   {
    "duration": 7,
    "start_time": "2021-06-24T11:11:27.860Z"
   },
   {
    "duration": 8,
    "start_time": "2021-06-24T11:12:22.973Z"
   },
   {
    "duration": 8,
    "start_time": "2021-06-24T11:12:27.562Z"
   },
   {
    "duration": 288,
    "start_time": "2021-06-24T11:21:31.228Z"
   },
   {
    "duration": 18,
    "start_time": "2021-06-24T11:22:32.437Z"
   },
   {
    "duration": 26,
    "start_time": "2021-06-24T11:22:51.370Z"
   },
   {
    "duration": 89,
    "start_time": "2021-06-24T11:23:19.044Z"
   },
   {
    "duration": 18,
    "start_time": "2021-06-24T11:23:34.032Z"
   },
   {
    "duration": 20,
    "start_time": "2021-06-24T11:23:37.822Z"
   },
   {
    "duration": 20,
    "start_time": "2021-06-24T11:23:54.796Z"
   },
   {
    "duration": 894,
    "start_time": "2021-06-24T11:30:19.658Z"
   },
   {
    "duration": 931,
    "start_time": "2021-06-24T11:30:27.693Z"
   },
   {
    "duration": 938,
    "start_time": "2021-06-24T11:30:46.512Z"
   },
   {
    "duration": 915,
    "start_time": "2021-06-24T11:31:32.710Z"
   },
   {
    "duration": 913,
    "start_time": "2021-06-24T11:31:57.636Z"
   },
   {
    "duration": 1033,
    "start_time": "2021-06-24T11:35:50.254Z"
   },
   {
    "duration": 966,
    "start_time": "2021-06-24T11:36:01.117Z"
   },
   {
    "duration": 366814,
    "start_time": "2021-06-24T11:39:46.534Z"
   },
   {
    "duration": 966,
    "start_time": "2021-06-24T11:51:11.843Z"
   },
   {
    "duration": 107,
    "start_time": "2021-06-24T11:52:18.381Z"
   },
   {
    "duration": 916,
    "start_time": "2021-06-24T11:53:48.439Z"
   },
   {
    "duration": 978,
    "start_time": "2021-06-24T11:54:01.650Z"
   },
   {
    "duration": 4,
    "start_time": "2021-06-24T11:57:44.166Z"
   },
   {
    "duration": 5,
    "start_time": "2021-06-24T11:58:09.552Z"
   },
   {
    "duration": 1538,
    "start_time": "2021-06-25T16:27:03.988Z"
   },
   {
    "duration": 1411,
    "start_time": "2021-06-25T16:27:13.601Z"
   },
   {
    "duration": 49,
    "start_time": "2021-06-25T16:27:24.860Z"
   },
   {
    "duration": 414,
    "start_time": "2021-06-25T16:29:14.611Z"
   },
   {
    "duration": 1261,
    "start_time": "2021-06-25T16:31:10.837Z"
   },
   {
    "duration": 39,
    "start_time": "2021-06-25T16:34:29.220Z"
   },
   {
    "duration": 4,
    "start_time": "2021-06-25T16:37:52.009Z"
   },
   {
    "duration": 1099,
    "start_time": "2021-06-25T16:37:52.016Z"
   },
   {
    "duration": 35,
    "start_time": "2021-06-25T16:37:53.118Z"
   },
   {
    "duration": 29,
    "start_time": "2021-06-25T16:37:53.156Z"
   },
   {
    "duration": 40,
    "start_time": "2021-06-25T16:37:53.187Z"
   },
   {
    "duration": 6,
    "start_time": "2021-06-25T16:37:53.229Z"
   },
   {
    "duration": 23,
    "start_time": "2021-06-25T16:37:53.238Z"
   },
   {
    "duration": 7,
    "start_time": "2021-06-25T16:37:53.263Z"
   },
   {
    "duration": 25,
    "start_time": "2021-06-25T16:37:53.273Z"
   },
   {
    "duration": 31,
    "start_time": "2021-06-25T16:37:53.300Z"
   },
   {
    "duration": 1092,
    "start_time": "2021-06-25T16:37:53.334Z"
   },
   {
    "duration": 13,
    "start_time": "2021-06-25T16:37:54.429Z"
   },
   {
    "duration": 1465,
    "start_time": "2021-06-25T16:37:54.444Z"
   },
   {
    "duration": 29,
    "start_time": "2021-06-25T16:37:55.911Z"
   },
   {
    "duration": 579,
    "start_time": "2021-06-25T16:37:55.942Z"
   },
   {
    "duration": 18,
    "start_time": "2021-06-25T16:37:56.524Z"
   },
   {
    "duration": 34,
    "start_time": "2021-06-25T16:37:56.544Z"
   },
   {
    "duration": 38,
    "start_time": "2021-06-25T16:38:01.695Z"
   },
   {
    "duration": 277,
    "start_time": "2021-06-25T16:42:54.990Z"
   },
   {
    "duration": 52,
    "start_time": "2021-06-25T16:43:19.521Z"
   },
   {
    "duration": 31,
    "start_time": "2021-06-25T16:43:58.540Z"
   },
   {
    "duration": 64,
    "start_time": "2021-06-25T16:44:38.060Z"
   },
   {
    "duration": 9,
    "start_time": "2021-06-25T16:46:13.017Z"
   },
   {
    "duration": 5,
    "start_time": "2021-06-25T16:52:04.369Z"
   },
   {
    "duration": 2099,
    "start_time": "2021-06-25T16:52:04.377Z"
   },
   {
    "duration": 35,
    "start_time": "2021-06-25T16:52:06.478Z"
   },
   {
    "duration": 27,
    "start_time": "2021-06-25T16:52:06.523Z"
   },
   {
    "duration": 22,
    "start_time": "2021-06-25T16:52:06.552Z"
   },
   {
    "duration": 6,
    "start_time": "2021-06-25T16:52:06.576Z"
   },
   {
    "duration": 62,
    "start_time": "2021-06-25T16:52:06.585Z"
   },
   {
    "duration": 8,
    "start_time": "2021-06-25T16:52:06.649Z"
   },
   {
    "duration": 8,
    "start_time": "2021-06-25T16:52:06.662Z"
   },
   {
    "duration": 7,
    "start_time": "2021-06-25T16:52:06.673Z"
   },
   {
    "duration": 1088,
    "start_time": "2021-06-25T16:52:06.683Z"
   },
   {
    "duration": 13,
    "start_time": "2021-06-25T16:52:07.774Z"
   },
   {
    "duration": 1445,
    "start_time": "2021-06-25T16:52:07.790Z"
   },
   {
    "duration": 26,
    "start_time": "2021-06-25T16:52:09.237Z"
   },
   {
    "duration": 682,
    "start_time": "2021-06-25T16:52:09.265Z"
   },
   {
    "duration": 17,
    "start_time": "2021-06-25T16:52:09.949Z"
   },
   {
    "duration": 26,
    "start_time": "2021-06-25T16:52:18.341Z"
   },
   {
    "duration": 24,
    "start_time": "2021-06-25T16:52:20.581Z"
   },
   {
    "duration": 39,
    "start_time": "2021-06-25T16:54:11.730Z"
   },
   {
    "duration": 5,
    "start_time": "2021-06-25T16:55:41.632Z"
   },
   {
    "duration": 8,
    "start_time": "2021-06-25T16:57:03.143Z"
   },
   {
    "duration": 8,
    "start_time": "2021-06-25T16:57:04.932Z"
   },
   {
    "duration": 327,
    "start_time": "2021-06-25T16:58:44.343Z"
   },
   {
    "duration": 27,
    "start_time": "2021-06-25T17:01:54.603Z"
   },
   {
    "duration": 318,
    "start_time": "2021-06-25T17:01:59.753Z"
   },
   {
    "duration": 5,
    "start_time": "2021-06-25T17:03:38.072Z"
   },
   {
    "duration": 3150,
    "start_time": "2021-06-25T17:03:38.079Z"
   },
   {
    "duration": 37,
    "start_time": "2021-06-25T17:03:41.232Z"
   },
   {
    "duration": 52,
    "start_time": "2021-06-25T17:03:41.273Z"
   },
   {
    "duration": 23,
    "start_time": "2021-06-25T17:03:41.328Z"
   },
   {
    "duration": 7,
    "start_time": "2021-06-25T17:03:41.354Z"
   },
   {
    "duration": 64,
    "start_time": "2021-06-25T17:03:41.364Z"
   },
   {
    "duration": 9,
    "start_time": "2021-06-25T17:03:41.433Z"
   },
   {
    "duration": 10,
    "start_time": "2021-06-25T17:03:41.445Z"
   },
   {
    "duration": 10,
    "start_time": "2021-06-25T17:03:41.458Z"
   },
   {
    "duration": 1095,
    "start_time": "2021-06-25T17:03:41.470Z"
   },
   {
    "duration": 14,
    "start_time": "2021-06-25T17:03:42.568Z"
   },
   {
    "duration": 1403,
    "start_time": "2021-06-25T17:03:42.585Z"
   },
   {
    "duration": 34,
    "start_time": "2021-06-25T17:03:43.990Z"
   },
   {
    "duration": 677,
    "start_time": "2021-06-25T17:03:44.026Z"
   },
   {
    "duration": 28,
    "start_time": "2021-06-25T17:03:44.706Z"
   },
   {
    "duration": 27,
    "start_time": "2021-06-25T17:03:48.080Z"
   },
   {
    "duration": 10,
    "start_time": "2021-06-25T17:04:44.489Z"
   },
   {
    "duration": 323,
    "start_time": "2021-06-25T17:04:46.422Z"
   },
   {
    "duration": 275,
    "start_time": "2021-06-25T17:13:55.827Z"
   },
   {
    "duration": 106,
    "start_time": "2021-06-25T17:16:00.006Z"
   },
   {
    "duration": 88,
    "start_time": "2021-06-25T17:16:03.796Z"
   },
   {
    "duration": 283,
    "start_time": "2021-06-25T17:16:07.533Z"
   },
   {
    "duration": 265,
    "start_time": "2021-06-25T17:16:12.333Z"
   },
   {
    "duration": 6,
    "start_time": "2021-06-25T17:16:22.683Z"
   },
   {
    "duration": 35,
    "start_time": "2021-06-25T17:16:27.977Z"
   },
   {
    "duration": 4,
    "start_time": "2021-06-25T17:16:54.933Z"
   },
   {
    "duration": 2620,
    "start_time": "2021-06-25T17:16:54.940Z"
   },
   {
    "duration": 37,
    "start_time": "2021-06-25T17:16:57.563Z"
   },
   {
    "duration": 41,
    "start_time": "2021-06-25T17:16:57.602Z"
   },
   {
    "duration": 22,
    "start_time": "2021-06-25T17:16:57.646Z"
   },
   {
    "duration": 8,
    "start_time": "2021-06-25T17:16:57.671Z"
   },
   {
    "duration": 56,
    "start_time": "2021-06-25T17:16:57.682Z"
   },
   {
    "duration": 10,
    "start_time": "2021-06-25T17:16:57.741Z"
   },
   {
    "duration": 9,
    "start_time": "2021-06-25T17:16:57.756Z"
   },
   {
    "duration": 12,
    "start_time": "2021-06-25T17:16:57.768Z"
   },
   {
    "duration": 1057,
    "start_time": "2021-06-25T17:16:57.825Z"
   },
   {
    "duration": 14,
    "start_time": "2021-06-25T17:16:58.884Z"
   },
   {
    "duration": 1385,
    "start_time": "2021-06-25T17:16:58.900Z"
   },
   {
    "duration": 21,
    "start_time": "2021-06-25T17:17:00.287Z"
   },
   {
    "duration": 584,
    "start_time": "2021-06-25T17:17:00.324Z"
   },
   {
    "duration": 147,
    "start_time": "2021-06-25T17:17:00.910Z"
   },
   {
    "duration": 25,
    "start_time": "2021-06-25T17:17:06.277Z"
   },
   {
    "duration": 38,
    "start_time": "2021-06-25T17:17:12.188Z"
   },
   {
    "duration": 10,
    "start_time": "2021-06-25T17:17:32.498Z"
   },
   {
    "duration": 38,
    "start_time": "2021-06-25T17:17:36.473Z"
   },
   {
    "duration": 274,
    "start_time": "2021-06-25T17:17:42.417Z"
   },
   {
    "duration": 37,
    "start_time": "2021-06-25T17:17:49.276Z"
   },
   {
    "duration": 662,
    "start_time": "2021-06-25T17:17:59.096Z"
   },
   {
    "duration": 5,
    "start_time": "2021-06-25T17:18:55.944Z"
   },
   {
    "duration": 6,
    "start_time": "2021-06-25T17:19:06.446Z"
   },
   {
    "duration": 5,
    "start_time": "2021-06-25T17:19:15.640Z"
   },
   {
    "duration": 5,
    "start_time": "2021-06-25T17:19:55.256Z"
   },
   {
    "duration": 2151,
    "start_time": "2021-06-25T17:19:55.269Z"
   },
   {
    "duration": 37,
    "start_time": "2021-06-25T17:19:57.422Z"
   },
   {
    "duration": 25,
    "start_time": "2021-06-25T17:19:57.462Z"
   },
   {
    "duration": 45,
    "start_time": "2021-06-25T17:19:57.490Z"
   },
   {
    "duration": 6,
    "start_time": "2021-06-25T17:19:57.538Z"
   },
   {
    "duration": 37,
    "start_time": "2021-06-25T17:19:57.546Z"
   },
   {
    "duration": 7,
    "start_time": "2021-06-25T17:19:57.585Z"
   },
   {
    "duration": 16,
    "start_time": "2021-06-25T17:19:57.594Z"
   },
   {
    "duration": 21,
    "start_time": "2021-06-25T17:19:57.626Z"
   },
   {
    "duration": 1055,
    "start_time": "2021-06-25T17:19:57.650Z"
   },
   {
    "duration": 20,
    "start_time": "2021-06-25T17:19:58.707Z"
   },
   {
    "duration": 1372,
    "start_time": "2021-06-25T17:19:58.730Z"
   },
   {
    "duration": 29,
    "start_time": "2021-06-25T17:20:00.105Z"
   },
   {
    "duration": 593,
    "start_time": "2021-06-25T17:20:00.136Z"
   },
   {
    "duration": 17,
    "start_time": "2021-06-25T17:20:00.731Z"
   },
   {
    "duration": 25,
    "start_time": "2021-06-25T17:20:03.185Z"
   },
   {
    "duration": 10,
    "start_time": "2021-06-25T17:20:08.693Z"
   },
   {
    "duration": 33,
    "start_time": "2021-06-25T17:20:16.365Z"
   },
   {
    "duration": 1469,
    "start_time": "2021-06-27T02:52:41.237Z"
   },
   {
    "duration": 3053,
    "start_time": "2021-06-27T02:52:42.709Z"
   },
   {
    "duration": 36,
    "start_time": "2021-06-27T02:52:45.764Z"
   },
   {
    "duration": 49,
    "start_time": "2021-06-27T02:52:45.802Z"
   },
   {
    "duration": 24,
    "start_time": "2021-06-27T02:52:45.853Z"
   },
   {
    "duration": 7,
    "start_time": "2021-06-27T02:52:45.879Z"
   },
   {
    "duration": 56,
    "start_time": "2021-06-27T02:52:45.888Z"
   },
   {
    "duration": 7,
    "start_time": "2021-06-27T02:52:45.948Z"
   },
   {
    "duration": 8,
    "start_time": "2021-06-27T02:52:45.958Z"
   },
   {
    "duration": 8,
    "start_time": "2021-06-27T02:52:45.968Z"
   },
   {
    "duration": 1108,
    "start_time": "2021-06-27T02:52:45.978Z"
   },
   {
    "duration": 13,
    "start_time": "2021-06-27T02:52:47.088Z"
   },
   {
    "duration": 1498,
    "start_time": "2021-06-27T02:52:47.104Z"
   },
   {
    "duration": 35,
    "start_time": "2021-06-27T02:52:48.605Z"
   },
   {
    "duration": 586,
    "start_time": "2021-06-27T02:52:48.643Z"
   },
   {
    "duration": 18,
    "start_time": "2021-06-27T02:52:49.231Z"
   },
   {
    "duration": 29,
    "start_time": "2021-06-27T02:52:49.252Z"
   },
   {
    "duration": 71,
    "start_time": "2021-06-27T02:52:49.284Z"
   },
   {
    "duration": 203376,
    "start_time": "2021-06-27T02:52:49.357Z"
   },
   {
    "duration": 975,
    "start_time": "2021-06-27T02:56:12.736Z"
   },
   {
    "duration": 336095,
    "start_time": "2021-06-27T02:56:13.714Z"
   },
   {
    "duration": 1013,
    "start_time": "2021-06-27T03:01:49.811Z"
   },
   {
    "duration": 4,
    "start_time": "2021-06-27T03:01:50.828Z"
   },
   {
    "duration": 11,
    "start_time": "2021-06-27T03:02:10.860Z"
   },
   {
    "duration": 33,
    "start_time": "2021-06-27T03:02:14.786Z"
   },
   {
    "duration": 206981,
    "start_time": "2021-06-27T03:02:23.073Z"
   },
   {
    "duration": 316,
    "start_time": "2021-06-27T03:07:04.971Z"
   },
   {
    "duration": 22,
    "start_time": "2021-06-27T03:07:24.103Z"
   },
   {
    "duration": 314,
    "start_time": "2021-06-27T03:07:30.675Z"
   },
   {
    "duration": 519,
    "start_time": "2021-06-27T03:09:06.614Z"
   },
   {
    "duration": 1002,
    "start_time": "2021-06-27T03:09:11.323Z"
   },
   {
    "duration": 985,
    "start_time": "2021-06-27T03:10:15.220Z"
   },
   {
    "duration": 967,
    "start_time": "2021-06-27T03:11:09.045Z"
   },
   {
    "duration": 956,
    "start_time": "2021-06-27T03:12:04.521Z"
   },
   {
    "duration": 745,
    "start_time": "2021-06-27T03:12:13.983Z"
   },
   {
    "duration": 313,
    "start_time": "2021-06-27T03:13:51.288Z"
   },
   {
    "duration": 5,
    "start_time": "2021-06-27T03:14:36.868Z"
   },
   {
    "duration": 2896,
    "start_time": "2021-06-27T03:14:36.876Z"
   },
   {
    "duration": 34,
    "start_time": "2021-06-27T03:14:39.775Z"
   },
   {
    "duration": 34,
    "start_time": "2021-06-27T03:14:39.812Z"
   },
   {
    "duration": 21,
    "start_time": "2021-06-27T03:14:39.848Z"
   },
   {
    "duration": 6,
    "start_time": "2021-06-27T03:14:39.871Z"
   },
   {
    "duration": 61,
    "start_time": "2021-06-27T03:14:39.879Z"
   },
   {
    "duration": 8,
    "start_time": "2021-06-27T03:14:39.943Z"
   },
   {
    "duration": 8,
    "start_time": "2021-06-27T03:14:39.953Z"
   },
   {
    "duration": 8,
    "start_time": "2021-06-27T03:14:39.963Z"
   },
   {
    "duration": 1095,
    "start_time": "2021-06-27T03:14:39.973Z"
   },
   {
    "duration": 14,
    "start_time": "2021-06-27T03:14:41.070Z"
   },
   {
    "duration": 1458,
    "start_time": "2021-06-27T03:14:41.086Z"
   },
   {
    "duration": 22,
    "start_time": "2021-06-27T03:14:42.546Z"
   },
   {
    "duration": 586,
    "start_time": "2021-06-27T03:14:42.570Z"
   },
   {
    "duration": 18,
    "start_time": "2021-06-27T03:14:43.158Z"
   },
   {
    "duration": 47,
    "start_time": "2021-06-27T03:14:43.179Z"
   },
   {
    "duration": 36,
    "start_time": "2021-06-27T03:14:46.002Z"
   },
   {
    "duration": 10,
    "start_time": "2021-06-27T03:14:52.376Z"
   },
   {
    "duration": 32,
    "start_time": "2021-06-27T03:14:54.418Z"
   },
   {
    "duration": 326,
    "start_time": "2021-06-27T03:14:57.203Z"
   },
   {
    "duration": 989,
    "start_time": "2021-06-27T03:15:00.135Z"
   },
   {
    "duration": 416,
    "start_time": "2021-06-27T03:15:42.013Z"
   },
   {
    "duration": 943,
    "start_time": "2021-06-27T03:15:43.875Z"
   },
   {
    "duration": 1405,
    "start_time": "2021-06-27T03:16:59.318Z"
   },
   {
    "duration": 957,
    "start_time": "2021-06-27T03:17:47.942Z"
   },
   {
    "duration": 998,
    "start_time": "2021-06-27T03:18:09.681Z"
   },
   {
    "duration": 4,
    "start_time": "2021-06-27T03:18:46.776Z"
   },
   {
    "duration": 3,
    "start_time": "2021-06-27T03:25:06.252Z"
   },
   {
    "duration": 5408,
    "start_time": "2021-06-27T04:08:11.759Z"
   },
   {
    "duration": 106,
    "start_time": "2021-06-27T04:09:21.752Z"
   },
   {
    "duration": 4,
    "start_time": "2021-06-27T04:10:32.105Z"
   },
   {
    "duration": 3147,
    "start_time": "2021-06-27T04:10:32.116Z"
   },
   {
    "duration": 36,
    "start_time": "2021-06-27T04:10:35.266Z"
   },
   {
    "duration": 42,
    "start_time": "2021-06-27T04:10:35.305Z"
   },
   {
    "duration": 22,
    "start_time": "2021-06-27T04:10:35.350Z"
   },
   {
    "duration": 7,
    "start_time": "2021-06-27T04:10:35.375Z"
   },
   {
    "duration": 27,
    "start_time": "2021-06-27T04:10:40.260Z"
   },
   {
    "duration": 301,
    "start_time": "2021-06-27T04:10:50.307Z"
   },
   {
    "duration": 29,
    "start_time": "2021-06-27T04:11:01.802Z"
   },
   {
    "duration": 93,
    "start_time": "2021-06-29T03:21:01.955Z"
   },
   {
    "duration": 1525,
    "start_time": "2021-06-29T03:23:33.855Z"
   },
   {
    "duration": 4975,
    "start_time": "2021-06-29T03:23:35.383Z"
   },
   {
    "duration": 37,
    "start_time": "2021-06-29T03:23:40.361Z"
   },
   {
    "duration": 55,
    "start_time": "2021-06-29T03:23:40.401Z"
   },
   {
    "duration": 21,
    "start_time": "2021-06-29T03:23:40.458Z"
   },
   {
    "duration": 6,
    "start_time": "2021-06-29T03:23:40.481Z"
   },
   {
    "duration": 24,
    "start_time": "2021-06-29T03:23:40.489Z"
   },
   {
    "duration": 40,
    "start_time": "2021-06-29T03:23:40.515Z"
   },
   {
    "duration": 7,
    "start_time": "2021-06-29T03:23:40.559Z"
   },
   {
    "duration": 11,
    "start_time": "2021-06-29T03:23:40.569Z"
   },
   {
    "duration": 1082,
    "start_time": "2021-06-29T03:23:40.582Z"
   },
   {
    "duration": 13,
    "start_time": "2021-06-29T03:23:41.666Z"
   },
   {
    "duration": 1472,
    "start_time": "2021-06-29T03:23:41.682Z"
   },
   {
    "duration": 25,
    "start_time": "2021-06-29T03:23:43.157Z"
   },
   {
    "duration": 581,
    "start_time": "2021-06-29T03:23:43.184Z"
   },
   {
    "duration": 18,
    "start_time": "2021-06-29T03:23:43.767Z"
   },
   {
    "duration": 38,
    "start_time": "2021-06-29T03:23:43.788Z"
   },
   {
    "duration": 38,
    "start_time": "2021-06-29T03:23:57.435Z"
   },
   {
    "duration": 114141,
    "start_time": "2021-06-29T03:24:40.901Z"
   },
   {
    "duration": 42,
    "start_time": "2021-06-29T03:32:18.916Z"
   },
   {
    "duration": 6,
    "start_time": "2021-06-29T03:32:27.051Z"
   },
   {
    "duration": 9,
    "start_time": "2021-06-29T03:32:51.810Z"
   },
   {
    "duration": 7,
    "start_time": "2021-06-29T03:33:17.313Z"
   },
   {
    "duration": 16,
    "start_time": "2021-06-29T03:33:57.891Z"
   },
   {
    "duration": 8,
    "start_time": "2021-06-29T03:34:02.379Z"
   },
   {
    "duration": 441,
    "start_time": "2021-06-29T03:36:26.567Z"
   },
   {
    "duration": 4,
    "start_time": "2021-06-29T03:37:02.771Z"
   },
   {
    "duration": 7,
    "start_time": "2021-06-29T03:39:18.224Z"
   },
   {
    "duration": 12,
    "start_time": "2021-06-29T03:39:24.087Z"
   },
   {
    "duration": 611,
    "start_time": "2021-06-29T03:40:30.907Z"
   },
   {
    "duration": 368,
    "start_time": "2021-06-29T03:40:43.280Z"
   },
   {
    "duration": 385,
    "start_time": "2021-06-29T03:44:28.334Z"
   },
   {
    "duration": 5,
    "start_time": "2021-06-29T03:45:20.948Z"
   },
   {
    "duration": 6,
    "start_time": "2021-06-29T03:47:08.888Z"
   },
   {
    "duration": 6402,
    "start_time": "2021-06-29T03:47:08.897Z"
   },
   {
    "duration": 60,
    "start_time": "2021-06-29T03:47:15.302Z"
   },
   {
    "duration": 26,
    "start_time": "2021-06-29T03:47:15.365Z"
   },
   {
    "duration": 24,
    "start_time": "2021-06-29T03:47:15.393Z"
   },
   {
    "duration": 7,
    "start_time": "2021-06-29T03:47:15.455Z"
   },
   {
    "duration": 33,
    "start_time": "2021-06-29T03:47:15.464Z"
   },
   {
    "duration": 9,
    "start_time": "2021-06-29T03:47:15.500Z"
   },
   {
    "duration": 40,
    "start_time": "2021-06-29T03:47:15.516Z"
   },
   {
    "duration": 10,
    "start_time": "2021-06-29T03:47:15.561Z"
   },
   {
    "duration": 1064,
    "start_time": "2021-06-29T03:47:15.573Z"
   },
   {
    "duration": 21,
    "start_time": "2021-06-29T03:47:16.640Z"
   },
   {
    "duration": 1598,
    "start_time": "2021-06-29T03:47:16.663Z"
   },
   {
    "duration": 23,
    "start_time": "2021-06-29T03:47:18.265Z"
   },
   {
    "duration": 592,
    "start_time": "2021-06-29T03:47:18.291Z"
   },
   {
    "duration": 18,
    "start_time": "2021-06-29T03:47:18.886Z"
   },
   {
    "duration": 48,
    "start_time": "2021-06-29T03:47:18.907Z"
   },
   {
    "duration": 34,
    "start_time": "2021-06-29T03:47:18.958Z"
   },
   {
    "duration": 217536,
    "start_time": "2021-06-29T03:47:18.995Z"
   },
   {
    "duration": 4,
    "start_time": "2021-06-29T03:50:56.534Z"
   },
   {
    "duration": 956,
    "start_time": "2021-06-29T03:50:56.541Z"
   },
   {
    "duration": 344988,
    "start_time": "2021-06-29T03:50:57.500Z"
   },
   {
    "duration": 1015,
    "start_time": "2021-06-29T03:56:42.491Z"
   },
   {
    "duration": 4,
    "start_time": "2021-06-29T03:56:43.509Z"
   },
   {
    "duration": 262,
    "start_time": "2021-06-29T03:56:43.515Z"
   },
   {
    "duration": -7179,
    "start_time": "2021-06-29T03:56:50.960Z"
   },
   {
    "duration": -7203,
    "start_time": "2021-06-29T03:56:50.985Z"
   },
   {
    "duration": -7229,
    "start_time": "2021-06-29T03:56:51.013Z"
   },
   {
    "duration": -7243,
    "start_time": "2021-06-29T03:56:51.028Z"
   },
   {
    "duration": -7247,
    "start_time": "2021-06-29T03:56:51.034Z"
   },
   {
    "duration": -7393,
    "start_time": "2021-06-29T03:56:51.181Z"
   },
   {
    "duration": -7397,
    "start_time": "2021-06-29T03:56:51.187Z"
   },
   {
    "duration": -7401,
    "start_time": "2021-06-29T03:56:51.193Z"
   },
   {
    "duration": -7410,
    "start_time": "2021-06-29T03:56:51.203Z"
   },
   {
    "duration": -7490,
    "start_time": "2021-06-29T03:56:51.285Z"
   },
   {
    "duration": -7501,
    "start_time": "2021-06-29T03:56:51.297Z"
   },
   {
    "duration": 8,
    "start_time": "2021-06-29T04:04:43.125Z"
   },
   {
    "duration": 307,
    "start_time": "2021-06-29T04:04:45.349Z"
   },
   {
    "duration": 27,
    "start_time": "2021-06-29T04:05:18.642Z"
   },
   {
    "duration": 392,
    "start_time": "2021-06-29T04:05:20.868Z"
   },
   {
    "duration": 973,
    "start_time": "2021-06-29T04:05:22.943Z"
   },
   {
    "duration": 1472,
    "start_time": "2021-06-29T04:05:25.783Z"
   },
   {
    "duration": 1051,
    "start_time": "2021-06-29T04:05:28.650Z"
   },
   {
    "duration": 4,
    "start_time": "2021-06-29T04:05:32.063Z"
   },
   {
    "duration": 118852,
    "start_time": "2021-06-29T04:05:37.151Z"
   },
   {
    "duration": 17,
    "start_time": "2021-06-29T04:07:47.738Z"
   },
   {
    "duration": 399,
    "start_time": "2021-06-29T04:07:49.393Z"
   },
   {
    "duration": 380,
    "start_time": "2021-06-29T04:07:51.285Z"
   },
   {
    "duration": 5,
    "start_time": "2021-06-29T04:07:53.272Z"
   },
   {
    "duration": 1533,
    "start_time": "2021-06-29T08:32:35.762Z"
   },
   {
    "duration": 3836,
    "start_time": "2021-06-29T08:32:37.300Z"
   },
   {
    "duration": 36,
    "start_time": "2021-06-29T08:32:41.139Z"
   },
   {
    "duration": 37,
    "start_time": "2021-06-29T08:33:55.329Z"
   },
   {
    "duration": 21,
    "start_time": "2021-06-29T08:33:57.055Z"
   },
   {
    "duration": 6,
    "start_time": "2021-06-29T08:34:22.317Z"
   },
   {
    "duration": 24,
    "start_time": "2021-06-29T08:34:50.421Z"
   },
   {
    "duration": 9,
    "start_time": "2021-06-29T08:36:52.733Z"
   },
   {
    "duration": 8,
    "start_time": "2021-06-29T08:36:53.052Z"
   },
   {
    "duration": 10,
    "start_time": "2021-06-29T08:36:53.219Z"
   },
   {
    "duration": 1074,
    "start_time": "2021-06-29T08:38:28.172Z"
   },
   {
    "duration": 14,
    "start_time": "2021-06-29T08:39:30.693Z"
   },
   {
    "duration": 1519,
    "start_time": "2021-06-29T08:39:31.107Z"
   },
   {
    "duration": 23,
    "start_time": "2021-06-29T08:39:32.628Z"
   },
   {
    "duration": 611,
    "start_time": "2021-06-29T08:39:32.654Z"
   },
   {
    "duration": 19,
    "start_time": "2021-06-29T08:41:45.660Z"
   },
   {
    "duration": 23,
    "start_time": "2021-06-29T08:41:59.773Z"
   },
   {
    "duration": 37,
    "start_time": "2021-06-29T08:42:13.583Z"
   },
   {
    "duration": 6,
    "start_time": "2021-06-29T08:44:26.023Z"
   },
   {
    "duration": 6,
    "start_time": "2021-06-29T08:45:13.724Z"
   },
   {
    "duration": 220177,
    "start_time": "2021-06-29T08:47:23.957Z"
   },
   {
    "duration": 6,
    "start_time": "2021-06-29T08:51:04.137Z"
   },
   {
    "duration": 996,
    "start_time": "2021-06-29T08:51:04.146Z"
   },
   {
    "duration": 1530,
    "start_time": "2021-06-29T08:57:56.107Z"
   },
   {
    "duration": 4567,
    "start_time": "2021-06-29T08:57:57.640Z"
   },
   {
    "duration": 37,
    "start_time": "2021-06-29T08:58:03.224Z"
   },
   {
    "duration": 34,
    "start_time": "2021-06-29T08:58:04.411Z"
   },
   {
    "duration": 25,
    "start_time": "2021-06-29T08:58:04.742Z"
   },
   {
    "duration": 7,
    "start_time": "2021-06-29T08:58:05.397Z"
   },
   {
    "duration": 24,
    "start_time": "2021-06-29T08:58:07.183Z"
   },
   {
    "duration": 8,
    "start_time": "2021-06-29T08:58:07.886Z"
   },
   {
    "duration": 8,
    "start_time": "2021-06-29T08:58:08.064Z"
   },
   {
    "duration": 8,
    "start_time": "2021-06-29T08:58:08.214Z"
   },
   {
    "duration": 1093,
    "start_time": "2021-06-29T08:58:08.902Z"
   },
   {
    "duration": 14,
    "start_time": "2021-06-29T08:58:10.001Z"
   },
   {
    "duration": 1465,
    "start_time": "2021-06-29T08:58:10.169Z"
   },
   {
    "duration": 24,
    "start_time": "2021-06-29T08:58:11.637Z"
   },
   {
    "duration": 671,
    "start_time": "2021-06-29T08:58:11.664Z"
   },
   {
    "duration": 18,
    "start_time": "2021-06-29T08:58:13.297Z"
   },
   {
    "duration": 25,
    "start_time": "2021-06-29T08:58:13.654Z"
   },
   {
    "duration": 41,
    "start_time": "2021-06-29T08:58:14.699Z"
   },
   {
    "duration": 6,
    "start_time": "2021-06-29T08:58:14.886Z"
   },
   {
    "duration": 231891,
    "start_time": "2021-06-29T08:58:15.974Z"
   },
   {
    "duration": 6,
    "start_time": "2021-06-29T09:02:07.868Z"
   },
   {
    "duration": 974,
    "start_time": "2021-06-29T09:02:07.877Z"
   },
   {
    "duration": 359609,
    "start_time": "2021-06-29T09:02:08.853Z"
   },
   {
    "duration": 1008,
    "start_time": "2021-06-29T09:08:08.464Z"
   },
   {
    "duration": 5,
    "start_time": "2021-06-29T09:08:09.474Z"
   },
   {
    "duration": 7,
    "start_time": "2021-06-29T09:11:36.424Z"
   },
   {
    "duration": 32,
    "start_time": "2021-06-29T09:11:38.690Z"
   },
   {
    "duration": 876,
    "start_time": "2021-06-29T09:11:38.725Z"
   },
   {
    "duration": 1006,
    "start_time": "2021-06-29T09:11:41.409Z"
   },
   {
    "duration": 1465,
    "start_time": "2021-06-29T09:11:42.536Z"
   },
   {
    "duration": 1245,
    "start_time": "2021-06-29T09:11:44.004Z"
   },
   {
    "duration": 4,
    "start_time": "2021-06-29T09:11:45.252Z"
   },
   {
    "duration": 132967,
    "start_time": "2021-06-29T09:11:48.466Z"
   },
   {
    "duration": 16,
    "start_time": "2021-06-29T09:14:01.436Z"
   },
   {
    "duration": 394,
    "start_time": "2021-06-29T09:23:52.132Z"
   },
   {
    "duration": 387,
    "start_time": "2021-06-29T09:23:53.053Z"
   },
   {
    "duration": 5,
    "start_time": "2021-06-29T09:23:53.971Z"
   },
   {
    "duration": 1610,
    "start_time": "2021-06-29T16:14:31.579Z"
   },
   {
    "duration": 3346,
    "start_time": "2021-06-29T16:14:33.192Z"
   },
   {
    "duration": 37,
    "start_time": "2021-06-29T16:14:36.541Z"
   },
   {
    "duration": 52,
    "start_time": "2021-06-29T16:14:36.581Z"
   },
   {
    "duration": 22,
    "start_time": "2021-06-29T16:14:36.635Z"
   },
   {
    "duration": 7,
    "start_time": "2021-06-29T16:14:36.659Z"
   },
   {
    "duration": 23,
    "start_time": "2021-06-29T16:14:36.668Z"
   },
   {
    "duration": 37,
    "start_time": "2021-06-29T16:14:36.694Z"
   },
   {
    "duration": 16,
    "start_time": "2021-06-29T16:14:36.734Z"
   },
   {
    "duration": 15,
    "start_time": "2021-06-29T16:14:36.753Z"
   },
   {
    "duration": 1115,
    "start_time": "2021-06-29T16:14:36.770Z"
   },
   {
    "duration": 16,
    "start_time": "2021-06-29T16:14:37.888Z"
   },
   {
    "duration": 1503,
    "start_time": "2021-06-29T16:14:37.906Z"
   },
   {
    "duration": 28,
    "start_time": "2021-06-29T16:14:39.411Z"
   },
   {
    "duration": 585,
    "start_time": "2021-06-29T16:14:39.441Z"
   },
   {
    "duration": 19,
    "start_time": "2021-06-29T16:14:40.029Z"
   },
   {
    "duration": 41,
    "start_time": "2021-06-29T16:14:40.050Z"
   },
   {
    "duration": 53,
    "start_time": "2021-06-29T16:14:40.094Z"
   },
   {
    "duration": 6,
    "start_time": "2021-06-29T16:14:40.149Z"
   },
   {
    "duration": 5,
    "start_time": "2021-06-29T16:17:33.183Z"
   },
   {
    "duration": 3739,
    "start_time": "2021-06-29T16:17:33.190Z"
   },
   {
    "duration": 36,
    "start_time": "2021-06-29T16:17:36.932Z"
   },
   {
    "duration": 25,
    "start_time": "2021-06-29T16:17:36.971Z"
   },
   {
    "duration": 48,
    "start_time": "2021-06-29T16:17:36.998Z"
   },
   {
    "duration": 5,
    "start_time": "2021-06-29T16:17:37.049Z"
   },
   {
    "duration": 25,
    "start_time": "2021-06-29T16:17:37.056Z"
   },
   {
    "duration": 41,
    "start_time": "2021-06-29T16:17:37.084Z"
   },
   {
    "duration": 7,
    "start_time": "2021-06-29T16:17:37.127Z"
   },
   {
    "duration": 6,
    "start_time": "2021-06-29T16:17:37.137Z"
   },
   {
    "duration": 1105,
    "start_time": "2021-06-29T16:17:37.145Z"
   },
   {
    "duration": 14,
    "start_time": "2021-06-29T16:17:38.252Z"
   },
   {
    "duration": 1584,
    "start_time": "2021-06-29T16:17:38.268Z"
   },
   {
    "duration": 21,
    "start_time": "2021-06-29T16:17:39.854Z"
   },
   {
    "duration": 593,
    "start_time": "2021-06-29T16:17:39.878Z"
   },
   {
    "duration": 18,
    "start_time": "2021-06-29T16:17:40.474Z"
   },
   {
    "duration": 43,
    "start_time": "2021-06-29T16:17:40.494Z"
   },
   {
    "duration": 35,
    "start_time": "2021-06-29T16:17:40.539Z"
   },
   {
    "duration": 6,
    "start_time": "2021-06-29T16:17:40.576Z"
   },
   {
    "duration": 8,
    "start_time": "2021-06-29T16:18:22.641Z"
   },
   {
    "duration": 7,
    "start_time": "2021-06-29T16:18:30.597Z"
   },
   {
    "duration": 8,
    "start_time": "2021-06-29T16:18:34.991Z"
   },
   {
    "duration": 5,
    "start_time": "2021-06-29T16:19:26.270Z"
   },
   {
    "duration": 402,
    "start_time": "2021-06-29T16:21:40.920Z"
   },
   {
    "duration": 389,
    "start_time": "2021-06-29T16:22:00.854Z"
   },
   {
    "duration": 384,
    "start_time": "2021-06-29T16:23:10.457Z"
   },
   {
    "duration": 8,
    "start_time": "2021-06-29T16:24:24.414Z"
   },
   {
    "duration": 383,
    "start_time": "2021-06-29T16:24:25.787Z"
   },
   {
    "duration": 376,
    "start_time": "2021-06-29T16:24:27.598Z"
   },
   {
    "duration": 6,
    "start_time": "2021-06-29T16:24:30.256Z"
   },
   {
    "duration": 6,
    "start_time": "2021-06-29T16:25:29.378Z"
   },
   {
    "duration": 969,
    "start_time": "2021-06-29T16:25:30.669Z"
   },
   {
    "duration": 1008,
    "start_time": "2021-06-29T16:25:33.509Z"
   },
   {
    "duration": 5,
    "start_time": "2021-06-29T16:25:38.274Z"
   },
   {
    "duration": 5,
    "start_time": "2021-06-29T16:26:49.890Z"
   },
   {
    "duration": 100,
    "start_time": "2021-06-29T16:30:37.702Z"
   },
   {
    "duration": 110,
    "start_time": "2021-06-29T16:31:40.439Z"
   },
   {
    "duration": 1656,
    "start_time": "2021-06-29T18:23:48.102Z"
   },
   {
    "duration": 2362,
    "start_time": "2021-06-29T18:23:50.449Z"
   },
   {
    "duration": 37,
    "start_time": "2021-06-29T18:23:52.814Z"
   },
   {
    "duration": 43,
    "start_time": "2021-06-29T18:23:53.986Z"
   },
   {
    "duration": 21,
    "start_time": "2021-06-29T18:23:54.548Z"
   },
   {
    "duration": 7,
    "start_time": "2021-06-29T18:23:55.239Z"
   },
   {
    "duration": 23,
    "start_time": "2021-06-29T18:23:56.464Z"
   },
   {
    "duration": 9,
    "start_time": "2021-06-29T18:23:57.184Z"
   },
   {
    "duration": 9,
    "start_time": "2021-06-29T18:23:57.384Z"
   },
   {
    "duration": 9,
    "start_time": "2021-06-29T18:23:57.570Z"
   },
   {
    "duration": 1156,
    "start_time": "2021-06-29T18:23:58.257Z"
   },
   {
    "duration": 18,
    "start_time": "2021-06-29T18:23:59.794Z"
   },
   {
    "duration": 1593,
    "start_time": "2021-06-29T18:24:00.689Z"
   },
   {
    "duration": 28,
    "start_time": "2021-06-29T18:24:02.284Z"
   },
   {
    "duration": 636,
    "start_time": "2021-06-29T18:24:02.315Z"
   },
   {
    "duration": 19,
    "start_time": "2021-06-29T18:24:04.524Z"
   },
   {
    "duration": 24,
    "start_time": "2021-06-29T18:24:04.977Z"
   },
   {
    "duration": 37,
    "start_time": "2021-06-29T18:24:06.064Z"
   },
   {
    "duration": 5,
    "start_time": "2021-06-29T18:24:06.825Z"
   },
   {
    "duration": 6,
    "start_time": "2021-06-29T18:24:30.474Z"
   },
   {
    "duration": 631,
    "start_time": "2021-06-29T18:24:31.425Z"
   },
   {
    "duration": 4,
    "start_time": "2021-06-29T18:24:54.841Z"
   },
   {
    "duration": 386,
    "start_time": "2021-06-29T18:25:03.712Z"
   },
   {
    "duration": 402,
    "start_time": "2021-06-29T18:25:05.496Z"
   },
   {
    "duration": 5,
    "start_time": "2021-06-29T18:25:07.193Z"
   }
  ],
  "kernelspec": {
   "display_name": "Python 3",
   "language": "python",
   "name": "python3"
  },
  "language_info": {
   "codemirror_mode": {
    "name": "ipython",
    "version": 3
   },
   "file_extension": ".py",
   "mimetype": "text/x-python",
   "name": "python",
   "nbconvert_exporter": "python",
   "pygments_lexer": "ipython3",
   "version": "3.7.10"
  },
  "toc": {
   "base_numbering": 1,
   "nav_menu": {},
   "number_sections": true,
   "sideBar": true,
   "skip_h1_title": true,
   "title_cell": "Table of Contents",
   "title_sidebar": "Contents",
   "toc_cell": false,
   "toc_position": {
    "height": "calc(100% - 180px)",
    "left": "10px",
    "top": "150px",
    "width": "165px"
   },
   "toc_section_display": true,
   "toc_window_display": true
  }
 },
 "nbformat": 4,
 "nbformat_minor": 2
}
